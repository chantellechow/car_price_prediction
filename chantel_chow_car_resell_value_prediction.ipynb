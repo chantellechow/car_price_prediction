{
 "cells": [
  {
   "cell_type": "markdown",
   "id": "2dd4560a",
   "metadata": {
    "id": "2dd4560a"
   },
   "source": [
    "# Predicting resell value for cars\n",
    "\n",
    "Rusty Bargain used car sales service is developing an app to attract new customers. In that app, you can quickly find out the market value of your car. You have access to historical data: technical specifications, trim versions, and prices. You need to build the model to determine the value.\n",
    "\n",
    "Rusty Bargain is interested in:\n",
    "\n",
    "- the quality of the prediction;\n",
    "- the speed of the prediction;\n",
    "- the time required for training"
   ]
  },
  {
   "cell_type": "markdown",
   "id": "2be9fa8b",
   "metadata": {
    "id": "2be9fa8b"
   },
   "source": [
    "<div class=\"alert alert-block alert-warning\">\n",
    "<b></b> <a class=\"tocSkip\"></a>   \n",
    "    \n",
    "> # Contents <a id='back'></a>\n",
    "> * [Introduction](#intro)\n",
    "    * [Stage 1. Importing libraries](#Import-Libraries)\n",
    "    * [Stage 2. Data Preparation](#Data-Preparation)\n",
    "    * [Stage 3. Data Processing](#Data-Processing)\n",
    "    * [Stage 4. Analyze data](#Analyze-data)\n",
    "    * [Stage 5. Build model](#Build-model)\n",
    "> * [Conclusion](#Conclusion)"
   ]
  },
  {
   "cell_type": "markdown",
   "id": "8d3a231e",
   "metadata": {
    "id": "8d3a231e"
   },
   "source": [
    "# Importing Libraries"
   ]
  },
  {
   "cell_type": "code",
   "execution_count": 2,
   "id": "903622fe",
   "metadata": {
    "id": "903622fe"
   },
   "outputs": [],
   "source": [
    "# data processing\n",
    "import pandas as pd\n",
    "import numpy as np\n",
    "import matplotlib.pyplot as plt\n",
    "import seaborn as sns\n",
    "from scipy.stats import randint\n",
    "import time\n",
    "# machine learning models\n",
    "\n",
    "import catboost as cb\n",
    "from sklearn.model_selection import train_test_split,GridSearchCV, RandomizedSearchCV,cross_validate\n",
    "from sklearn.metrics import mean_squared_error, mean_absolute_error, r2_score, make_scorer\n",
    "from sklearn.preprocessing import StandardScaler\n",
    "from sklearn.tree import DecisionTreeRegressor\n",
    "from sklearn.ensemble import RandomForestRegressor\n",
    "from sklearn.linear_model import LinearRegression\n",
    "from catboost import CatBoostRegressor, cv, Pool\n",
    "from lightgbm import LGBMRegressor\n",
    "# import warnings\n",
    "# warnings.filterwarnings(\"ignore\")"
   ]
  },
  {
   "cell_type": "markdown",
   "id": "12ce3770",
   "metadata": {
    "id": "12ce3770"
   },
   "source": [
    "# Data Preparation"
   ]
  },
  {
   "cell_type": "markdown",
   "id": "507f07a4",
   "metadata": {
    "id": "507f07a4"
   },
   "source": [
    "### Importing data"
   ]
  },
  {
   "cell_type": "code",
   "execution_count": 3,
   "id": "a3d5dca6",
   "metadata": {
    "id": "a3d5dca6"
   },
   "outputs": [],
   "source": [
    "try:\n",
    "    df_car = pd.read_csv('/Users/dankeichow/Downloads/car_data.csv')\n",
    "\n",
    "except:\n",
    "    df_car = pd.read_csv('/datasets/car_data.csv')"
   ]
  },
  {
   "cell_type": "code",
   "execution_count": 4,
   "id": "ecdac0b7",
   "metadata": {
    "id": "ecdac0b7",
    "outputId": "e0278166-8848-4a66-c978-c17bbe221b67"
   },
   "outputs": [
    {
     "name": "stdout",
     "output_type": "stream",
     "text": [
      "<class 'pandas.core.frame.DataFrame'>\n",
      "RangeIndex: 354369 entries, 0 to 354368\n",
      "Data columns (total 16 columns):\n",
      " #   Column             Non-Null Count   Dtype \n",
      "---  ------             --------------   ----- \n",
      " 0   DateCrawled        354369 non-null  object\n",
      " 1   Price              354369 non-null  int64 \n",
      " 2   VehicleType        316879 non-null  object\n",
      " 3   RegistrationYear   354369 non-null  int64 \n",
      " 4   Gearbox            334536 non-null  object\n",
      " 5   Power              354369 non-null  int64 \n",
      " 6   Model              334664 non-null  object\n",
      " 7   Mileage            354369 non-null  int64 \n",
      " 8   RegistrationMonth  354369 non-null  int64 \n",
      " 9   FuelType           321474 non-null  object\n",
      " 10  Brand              354369 non-null  object\n",
      " 11  NotRepaired        283215 non-null  object\n",
      " 12  DateCreated        354369 non-null  object\n",
      " 13  NumberOfPictures   354369 non-null  int64 \n",
      " 14  PostalCode         354369 non-null  int64 \n",
      " 15  LastSeen           354369 non-null  object\n",
      "dtypes: int64(7), object(9)\n",
      "memory usage: 43.3+ MB\n"
     ]
    },
    {
     "data": {
      "text/html": [
       "<div>\n",
       "<style scoped>\n",
       "    .dataframe tbody tr th:only-of-type {\n",
       "        vertical-align: middle;\n",
       "    }\n",
       "\n",
       "    .dataframe tbody tr th {\n",
       "        vertical-align: top;\n",
       "    }\n",
       "\n",
       "    .dataframe thead th {\n",
       "        text-align: right;\n",
       "    }\n",
       "</style>\n",
       "<table border=\"1\" class=\"dataframe\">\n",
       "  <thead>\n",
       "    <tr style=\"text-align: right;\">\n",
       "      <th></th>\n",
       "      <th>DateCrawled</th>\n",
       "      <th>Price</th>\n",
       "      <th>VehicleType</th>\n",
       "      <th>RegistrationYear</th>\n",
       "      <th>Gearbox</th>\n",
       "      <th>Power</th>\n",
       "      <th>Model</th>\n",
       "      <th>Mileage</th>\n",
       "      <th>RegistrationMonth</th>\n",
       "      <th>FuelType</th>\n",
       "      <th>Brand</th>\n",
       "      <th>NotRepaired</th>\n",
       "      <th>DateCreated</th>\n",
       "      <th>NumberOfPictures</th>\n",
       "      <th>PostalCode</th>\n",
       "      <th>LastSeen</th>\n",
       "    </tr>\n",
       "  </thead>\n",
       "  <tbody>\n",
       "    <tr>\n",
       "      <th>0</th>\n",
       "      <td>24/03/2016 11:52</td>\n",
       "      <td>480</td>\n",
       "      <td>NaN</td>\n",
       "      <td>1993</td>\n",
       "      <td>manual</td>\n",
       "      <td>0</td>\n",
       "      <td>golf</td>\n",
       "      <td>150000</td>\n",
       "      <td>0</td>\n",
       "      <td>petrol</td>\n",
       "      <td>volkswagen</td>\n",
       "      <td>NaN</td>\n",
       "      <td>24/03/2016 00:00</td>\n",
       "      <td>0</td>\n",
       "      <td>70435</td>\n",
       "      <td>07/04/2016 03:16</td>\n",
       "    </tr>\n",
       "    <tr>\n",
       "      <th>1</th>\n",
       "      <td>24/03/2016 10:58</td>\n",
       "      <td>18300</td>\n",
       "      <td>coupe</td>\n",
       "      <td>2011</td>\n",
       "      <td>manual</td>\n",
       "      <td>190</td>\n",
       "      <td>NaN</td>\n",
       "      <td>125000</td>\n",
       "      <td>5</td>\n",
       "      <td>gasoline</td>\n",
       "      <td>audi</td>\n",
       "      <td>yes</td>\n",
       "      <td>24/03/2016 00:00</td>\n",
       "      <td>0</td>\n",
       "      <td>66954</td>\n",
       "      <td>07/04/2016 01:46</td>\n",
       "    </tr>\n",
       "    <tr>\n",
       "      <th>2</th>\n",
       "      <td>14/03/2016 12:52</td>\n",
       "      <td>9800</td>\n",
       "      <td>suv</td>\n",
       "      <td>2004</td>\n",
       "      <td>auto</td>\n",
       "      <td>163</td>\n",
       "      <td>grand</td>\n",
       "      <td>125000</td>\n",
       "      <td>8</td>\n",
       "      <td>gasoline</td>\n",
       "      <td>jeep</td>\n",
       "      <td>NaN</td>\n",
       "      <td>14/03/2016 00:00</td>\n",
       "      <td>0</td>\n",
       "      <td>90480</td>\n",
       "      <td>05/04/2016 12:47</td>\n",
       "    </tr>\n",
       "    <tr>\n",
       "      <th>3</th>\n",
       "      <td>17/03/2016 16:54</td>\n",
       "      <td>1500</td>\n",
       "      <td>small</td>\n",
       "      <td>2001</td>\n",
       "      <td>manual</td>\n",
       "      <td>75</td>\n",
       "      <td>golf</td>\n",
       "      <td>150000</td>\n",
       "      <td>6</td>\n",
       "      <td>petrol</td>\n",
       "      <td>volkswagen</td>\n",
       "      <td>no</td>\n",
       "      <td>17/03/2016 00:00</td>\n",
       "      <td>0</td>\n",
       "      <td>91074</td>\n",
       "      <td>17/03/2016 17:40</td>\n",
       "    </tr>\n",
       "    <tr>\n",
       "      <th>4</th>\n",
       "      <td>31/03/2016 17:25</td>\n",
       "      <td>3600</td>\n",
       "      <td>small</td>\n",
       "      <td>2008</td>\n",
       "      <td>manual</td>\n",
       "      <td>69</td>\n",
       "      <td>fabia</td>\n",
       "      <td>90000</td>\n",
       "      <td>7</td>\n",
       "      <td>gasoline</td>\n",
       "      <td>skoda</td>\n",
       "      <td>no</td>\n",
       "      <td>31/03/2016 00:00</td>\n",
       "      <td>0</td>\n",
       "      <td>60437</td>\n",
       "      <td>06/04/2016 10:17</td>\n",
       "    </tr>\n",
       "  </tbody>\n",
       "</table>\n",
       "</div>"
      ],
      "text/plain": [
       "        DateCrawled  Price VehicleType  RegistrationYear Gearbox  Power  \\\n",
       "0  24/03/2016 11:52    480         NaN              1993  manual      0   \n",
       "1  24/03/2016 10:58  18300       coupe              2011  manual    190   \n",
       "2  14/03/2016 12:52   9800         suv              2004    auto    163   \n",
       "3  17/03/2016 16:54   1500       small              2001  manual     75   \n",
       "4  31/03/2016 17:25   3600       small              2008  manual     69   \n",
       "\n",
       "   Model  Mileage  RegistrationMonth  FuelType       Brand NotRepaired  \\\n",
       "0   golf   150000                  0    petrol  volkswagen         NaN   \n",
       "1    NaN   125000                  5  gasoline        audi         yes   \n",
       "2  grand   125000                  8  gasoline        jeep         NaN   \n",
       "3   golf   150000                  6    petrol  volkswagen          no   \n",
       "4  fabia    90000                  7  gasoline       skoda          no   \n",
       "\n",
       "        DateCreated  NumberOfPictures  PostalCode          LastSeen  \n",
       "0  24/03/2016 00:00                 0       70435  07/04/2016 03:16  \n",
       "1  24/03/2016 00:00                 0       66954  07/04/2016 01:46  \n",
       "2  14/03/2016 00:00                 0       90480  05/04/2016 12:47  \n",
       "3  17/03/2016 00:00                 0       91074  17/03/2016 17:40  \n",
       "4  31/03/2016 00:00                 0       60437  06/04/2016 10:17  "
      ]
     },
     "execution_count": 4,
     "metadata": {},
     "output_type": "execute_result"
    }
   ],
   "source": [
    "df_car.info()\n",
    "\n",
    "\n",
    "df_car.head(5)"
   ]
  },
  {
   "cell_type": "markdown",
   "id": "9ce555ae",
   "metadata": {
    "id": "9ce555ae"
   },
   "source": [
    "At a quick glance,\n",
    "\n",
    "1. Date crawled, date created and last seen columns are not in date format\n",
    "2. There are missing values in verhicle type, gearbox, fuel type, not repaired\n",
    "3. columns are not in lower case\n",
    "\n",
    "We may not have to keep all columns for our models. Our **target** column with be `price`.\n",
    "\n",
    "Columns that are useful to training:\n",
    "\n",
    "- VehicleType — vehicle body type\n",
    "\n",
    "- RegistrationYear — vehicle registration year\n",
    "\n",
    "- Gearbox — gearbox type\n",
    "\n",
    "- Power — power (hp)\n",
    "\n",
    "- Model — vehicle model\n",
    "\n",
    "- Mileage — mileage (measured in km due to dataset's regional specifics)\n",
    "\n",
    "- FuelType — fuel type\n",
    "\n",
    "- Brand — vehicle brand\n",
    "\n",
    "- RegistrationMonth — vehicle registration month\n",
    "\n",
    "- NotRepaired — vehicle repaired or not\n",
    "\n",
    "Columns that seem irrelevant to training our model:\n",
    "\n",
    "- DateCrawled — when did the data downloaded from database seems irrelevant to determine car price\n",
    "\n",
    "- DateCreated — when was the profile created also seems irrelevant\n",
    "\n",
    "- NumberOfPictures — having good photos maybe attract potential viewing but the number of vehicle pictures seems irrelevant\n",
    "\n",
    "- PostalCode — potentially certain postal code can have higher sales but it will not determine the price of the car\n",
    "\n",
    "- LastSeen — date of the last activity of the user will be irrelevant\n",
    "\n",
    "Next, I will convert columns to lower case, check if there are duplicates and then drop irrelevant columns."
   ]
  },
  {
   "cell_type": "markdown",
   "id": "a4571798",
   "metadata": {
    "id": "a4571798"
   },
   "source": [
    "### Change column name to lower case"
   ]
  },
  {
   "cell_type": "code",
   "execution_count": 5,
   "id": "14fea15f",
   "metadata": {
    "id": "14fea15f"
   },
   "outputs": [],
   "source": [
    "# Update columns to lowercase\n",
    "\n",
    "df_car = df_car.rename(columns=lambda x: x.lower())"
   ]
  },
  {
   "cell_type": "code",
   "execution_count": 6,
   "id": "3f0b591a",
   "metadata": {
    "id": "3f0b591a",
    "outputId": "1ce75199-103c-4190-b592-a2daaf01a86d"
   },
   "outputs": [
    {
     "data": {
      "text/plain": [
       "Index(['datecrawled', 'price', 'vehicletype', 'registrationyear', 'gearbox',\n",
       "       'power', 'model', 'mileage', 'registrationmonth', 'fueltype', 'brand',\n",
       "       'notrepaired', 'datecreated', 'numberofpictures', 'postalcode',\n",
       "       'lastseen'],\n",
       "      dtype='object')"
      ]
     },
     "execution_count": 6,
     "metadata": {},
     "output_type": "execute_result"
    }
   ],
   "source": [
    "df_car.columns"
   ]
  },
  {
   "cell_type": "markdown",
   "id": "48e1ec54",
   "metadata": {
    "id": "48e1ec54"
   },
   "source": [
    "Column names are all in lower case now."
   ]
  },
  {
   "cell_type": "markdown",
   "id": "4dbeee39",
   "metadata": {
    "id": "4dbeee39"
   },
   "source": [
    "### Are there duplicates?"
   ]
  },
  {
   "cell_type": "code",
   "execution_count": 7,
   "id": "c5e6880b",
   "metadata": {
    "id": "c5e6880b",
    "outputId": "56179258-1cce-49ea-90ca-d8ee3fbbace6"
   },
   "outputs": [
    {
     "name": "stdout",
     "output_type": "stream",
     "text": [
      "There are 262 duplicated rows. Now, we will drop the duplicates.\n"
     ]
    }
   ],
   "source": [
    "# Check if there are duplicates in the data set\n",
    "\n",
    "print('There are',df_car.duplicated().sum() , 'duplicated rows. Now, we will drop the duplicates.')"
   ]
  },
  {
   "cell_type": "code",
   "execution_count": 8,
   "id": "48e44c3b",
   "metadata": {
    "id": "48e44c3b",
    "outputId": "088d9d30-f7f5-45ca-8f6e-0c96fd996502"
   },
   "outputs": [
    {
     "name": "stdout",
     "output_type": "stream",
     "text": [
      "There are 0 duplicated rows.\n"
     ]
    }
   ],
   "source": [
    "# Dropping duplicates\n",
    "\n",
    "df_car = df_car.drop_duplicates().reset_index(drop=True)\n",
    "\n",
    "print('There are',df_car.duplicated().sum() , 'duplicated rows.')"
   ]
  },
  {
   "cell_type": "markdown",
   "id": "93dacc5c",
   "metadata": {
    "id": "93dacc5c"
   },
   "source": [
    "### Dropping irrelevant columns"
   ]
  },
  {
   "cell_type": "code",
   "execution_count": 9,
   "id": "96b950f9",
   "metadata": {
    "id": "96b950f9"
   },
   "outputs": [],
   "source": [
    "# Dropping irrelevant columns\n",
    "\n",
    "df_car = df_car.drop(['datecrawled','datecreated','lastseen','numberofpictures','postalcode'], axis=1)"
   ]
  },
  {
   "cell_type": "code",
   "execution_count": 10,
   "id": "6eb81f35",
   "metadata": {
    "id": "6eb81f35",
    "outputId": "326917f9-2590-4ad8-dba7-a1964f8eb7f1"
   },
   "outputs": [
    {
     "name": "stdout",
     "output_type": "stream",
     "text": [
      "<class 'pandas.core.frame.DataFrame'>\n",
      "RangeIndex: 354107 entries, 0 to 354106\n",
      "Data columns (total 11 columns):\n",
      " #   Column             Non-Null Count   Dtype \n",
      "---  ------             --------------   ----- \n",
      " 0   price              354107 non-null  int64 \n",
      " 1   vehicletype        316623 non-null  object\n",
      " 2   registrationyear   354107 non-null  int64 \n",
      " 3   gearbox            334277 non-null  object\n",
      " 4   power              354107 non-null  int64 \n",
      " 5   model              334406 non-null  object\n",
      " 6   mileage            354107 non-null  int64 \n",
      " 7   registrationmonth  354107 non-null  int64 \n",
      " 8   fueltype           321218 non-null  object\n",
      " 9   brand              354107 non-null  object\n",
      " 10  notrepaired        282962 non-null  object\n",
      "dtypes: int64(5), object(6)\n",
      "memory usage: 29.7+ MB\n"
     ]
    }
   ],
   "source": [
    "df_car.info()"
   ]
  },
  {
   "cell_type": "markdown",
   "id": "f508333c",
   "metadata": {
    "id": "f508333c"
   },
   "source": [
    "### Examine data"
   ]
  },
  {
   "cell_type": "markdown",
   "id": "fbe7e319",
   "metadata": {
    "id": "fbe7e319"
   },
   "source": [
    "There are missing data in in `vehicletype`, `gearbox`, `model`, `fueltype`, and `notrepaired`.\n",
    "\n",
    "Let's understand the data a bit more in depth with columne that do not have nulls before filling in the NAs."
   ]
  },
  {
   "cell_type": "code",
   "execution_count": 11,
   "id": "ef9e88d9",
   "metadata": {
    "id": "ef9e88d9",
    "outputId": "d2aaedd6-2260-491f-9fb3-b1096995fe09"
   },
   "outputs": [
    {
     "data": {
      "text/plain": [
       "notrepaired          20.091385\n",
       "vehicletype          10.585501\n",
       "fueltype              9.287871\n",
       "gearbox               5.600002\n",
       "model                 5.563573\n",
       "price                 0.000000\n",
       "registrationyear      0.000000\n",
       "power                 0.000000\n",
       "mileage               0.000000\n",
       "registrationmonth     0.000000\n",
       "brand                 0.000000\n",
       "dtype: float64"
      ]
     },
     "execution_count": 11,
     "metadata": {},
     "output_type": "execute_result"
    }
   ],
   "source": [
    "# First, let's check the % of missing data of\n",
    "\n",
    "((df_car.isnull().sum()/df_car.shape[0])*100).sort_values(ascending=False)"
   ]
  },
  {
   "cell_type": "markdown",
   "id": "1e946227",
   "metadata": {
    "id": "1e946227"
   },
   "source": [
    "Let examine `registrationyear` where is has no missing data to make sure years are relevant."
   ]
  },
  {
   "cell_type": "code",
   "execution_count": 12,
   "id": "ef8f8f86",
   "metadata": {
    "id": "ef8f8f86",
    "outputId": "c1ac3688-d5f2-4d6f-f082-dcea623ca248",
    "scrolled": true
   },
   "outputs": [
    {
     "data": {
      "text/plain": [
       "registrationyear\n",
       "2000    24476\n",
       "1999    22703\n",
       "2005    22094\n",
       "2001    20107\n",
       "2006    19874\n",
       "        ...  \n",
       "6500        1\n",
       "2290        1\n",
       "1001        1\n",
       "9450        1\n",
       "3500        1\n",
       "Name: count, Length: 151, dtype: int64"
      ]
     },
     "execution_count": 12,
     "metadata": {},
     "output_type": "execute_result"
    }
   ],
   "source": [
    "df_car['registrationyear'].value_counts()"
   ]
  },
  {
   "cell_type": "markdown",
   "id": "83049f52",
   "metadata": {
    "id": "83049f52"
   },
   "source": [
    "It seems like there are odd years in the data. There are year 3500, 9450 or 1001. Let's refine the years of data."
   ]
  },
  {
   "cell_type": "code",
   "execution_count": 13,
   "id": "631de2b4",
   "metadata": {
    "id": "631de2b4"
   },
   "outputs": [],
   "source": [
    "df_car = df_car[(df_car['registrationyear'] >= 1970) & (df_car['registrationyear'] <= 2022)]\n"
   ]
  },
  {
   "cell_type": "code",
   "execution_count": 14,
   "id": "9be976d2",
   "metadata": {
    "id": "9be976d2",
    "outputId": "abc7d737-a6ce-48da-bb77-1d22a001001d"
   },
   "outputs": [
    {
     "name": "stdout",
     "output_type": "stream",
     "text": [
      "After refining the years of car sales, we have 352665 rows of data.\n"
     ]
    }
   ],
   "source": [
    "print('After refining the years of car sales, we have', df_car.shape[0], 'rows of data.')"
   ]
  },
  {
   "cell_type": "markdown",
   "id": "59f8660e",
   "metadata": {
    "id": "59f8660e"
   },
   "source": [
    "Let's examine `price`, `power` and `registrationmonth`"
   ]
  },
  {
   "cell_type": "code",
   "execution_count": 15,
   "id": "86b8f28f",
   "metadata": {
    "id": "86b8f28f",
    "outputId": "7abde41f-7380-4270-f3e0-ef7e9efd76b5"
   },
   "outputs": [
    {
     "data": {
      "text/plain": [
       "price\n",
       "0        10588\n",
       "500       5645\n",
       "1500      5379\n",
       "1000      4633\n",
       "1200      4583\n",
       "         ...  \n",
       "3021         1\n",
       "1368         1\n",
       "233          1\n",
       "11080        1\n",
       "10985        1\n",
       "Name: count, Length: 3727, dtype: int64"
      ]
     },
     "execution_count": 15,
     "metadata": {},
     "output_type": "execute_result"
    }
   ],
   "source": [
    "# Examining price column\n",
    "\n",
    "df_car['price'].value_counts()"
   ]
  },
  {
   "cell_type": "code",
   "execution_count": 16,
   "id": "8051f33d",
   "metadata": {
    "id": "8051f33d",
    "outputId": "f6ce5ba1-b079-4518-a003-8adda246a882"
   },
   "outputs": [
    {
     "data": {
      "text/html": [
       "<div>\n",
       "<style scoped>\n",
       "    .dataframe tbody tr th:only-of-type {\n",
       "        vertical-align: middle;\n",
       "    }\n",
       "\n",
       "    .dataframe tbody tr th {\n",
       "        vertical-align: top;\n",
       "    }\n",
       "\n",
       "    .dataframe thead th {\n",
       "        text-align: right;\n",
       "    }\n",
       "</style>\n",
       "<table border=\"1\" class=\"dataframe\">\n",
       "  <thead>\n",
       "    <tr style=\"text-align: right;\">\n",
       "      <th></th>\n",
       "      <th>price</th>\n",
       "      <th>vehicletype</th>\n",
       "      <th>registrationyear</th>\n",
       "      <th>gearbox</th>\n",
       "      <th>power</th>\n",
       "      <th>model</th>\n",
       "      <th>mileage</th>\n",
       "      <th>registrationmonth</th>\n",
       "      <th>fueltype</th>\n",
       "      <th>brand</th>\n",
       "      <th>notrepaired</th>\n",
       "    </tr>\n",
       "  </thead>\n",
       "  <tbody>\n",
       "    <tr>\n",
       "      <th>7</th>\n",
       "      <td>0</td>\n",
       "      <td>sedan</td>\n",
       "      <td>1980</td>\n",
       "      <td>manual</td>\n",
       "      <td>50</td>\n",
       "      <td>other</td>\n",
       "      <td>40000</td>\n",
       "      <td>7</td>\n",
       "      <td>petrol</td>\n",
       "      <td>volkswagen</td>\n",
       "      <td>no</td>\n",
       "    </tr>\n",
       "    <tr>\n",
       "      <th>40</th>\n",
       "      <td>0</td>\n",
       "      <td>NaN</td>\n",
       "      <td>1990</td>\n",
       "      <td>NaN</td>\n",
       "      <td>0</td>\n",
       "      <td>corsa</td>\n",
       "      <td>150000</td>\n",
       "      <td>1</td>\n",
       "      <td>petrol</td>\n",
       "      <td>opel</td>\n",
       "      <td>NaN</td>\n",
       "    </tr>\n",
       "    <tr>\n",
       "      <th>111</th>\n",
       "      <td>0</td>\n",
       "      <td>NaN</td>\n",
       "      <td>2017</td>\n",
       "      <td>manual</td>\n",
       "      <td>0</td>\n",
       "      <td>golf</td>\n",
       "      <td>5000</td>\n",
       "      <td>12</td>\n",
       "      <td>petrol</td>\n",
       "      <td>volkswagen</td>\n",
       "      <td>NaN</td>\n",
       "    </tr>\n",
       "    <tr>\n",
       "      <th>115</th>\n",
       "      <td>0</td>\n",
       "      <td>small</td>\n",
       "      <td>1999</td>\n",
       "      <td>NaN</td>\n",
       "      <td>0</td>\n",
       "      <td>NaN</td>\n",
       "      <td>5000</td>\n",
       "      <td>0</td>\n",
       "      <td>petrol</td>\n",
       "      <td>volkswagen</td>\n",
       "      <td>NaN</td>\n",
       "    </tr>\n",
       "    <tr>\n",
       "      <th>152</th>\n",
       "      <td>0</td>\n",
       "      <td>bus</td>\n",
       "      <td>2004</td>\n",
       "      <td>manual</td>\n",
       "      <td>101</td>\n",
       "      <td>meriva</td>\n",
       "      <td>150000</td>\n",
       "      <td>10</td>\n",
       "      <td>lpg</td>\n",
       "      <td>opel</td>\n",
       "      <td>yes</td>\n",
       "    </tr>\n",
       "    <tr>\n",
       "      <th>...</th>\n",
       "      <td>...</td>\n",
       "      <td>...</td>\n",
       "      <td>...</td>\n",
       "      <td>...</td>\n",
       "      <td>...</td>\n",
       "      <td>...</td>\n",
       "      <td>...</td>\n",
       "      <td>...</td>\n",
       "      <td>...</td>\n",
       "      <td>...</td>\n",
       "      <td>...</td>\n",
       "    </tr>\n",
       "    <tr>\n",
       "      <th>353943</th>\n",
       "      <td>0</td>\n",
       "      <td>NaN</td>\n",
       "      <td>2000</td>\n",
       "      <td>manual</td>\n",
       "      <td>65</td>\n",
       "      <td>corsa</td>\n",
       "      <td>150000</td>\n",
       "      <td>0</td>\n",
       "      <td>NaN</td>\n",
       "      <td>opel</td>\n",
       "      <td>yes</td>\n",
       "    </tr>\n",
       "    <tr>\n",
       "      <th>353976</th>\n",
       "      <td>0</td>\n",
       "      <td>small</td>\n",
       "      <td>2002</td>\n",
       "      <td>manual</td>\n",
       "      <td>60</td>\n",
       "      <td>fiesta</td>\n",
       "      <td>150000</td>\n",
       "      <td>3</td>\n",
       "      <td>petrol</td>\n",
       "      <td>ford</td>\n",
       "      <td>NaN</td>\n",
       "    </tr>\n",
       "    <tr>\n",
       "      <th>353986</th>\n",
       "      <td>0</td>\n",
       "      <td>small</td>\n",
       "      <td>1999</td>\n",
       "      <td>manual</td>\n",
       "      <td>53</td>\n",
       "      <td>swift</td>\n",
       "      <td>150000</td>\n",
       "      <td>3</td>\n",
       "      <td>petrol</td>\n",
       "      <td>suzuki</td>\n",
       "      <td>NaN</td>\n",
       "    </tr>\n",
       "    <tr>\n",
       "      <th>354015</th>\n",
       "      <td>0</td>\n",
       "      <td>small</td>\n",
       "      <td>1999</td>\n",
       "      <td>manual</td>\n",
       "      <td>37</td>\n",
       "      <td>arosa</td>\n",
       "      <td>150000</td>\n",
       "      <td>7</td>\n",
       "      <td>petrol</td>\n",
       "      <td>seat</td>\n",
       "      <td>yes</td>\n",
       "    </tr>\n",
       "    <tr>\n",
       "      <th>354102</th>\n",
       "      <td>0</td>\n",
       "      <td>NaN</td>\n",
       "      <td>2005</td>\n",
       "      <td>manual</td>\n",
       "      <td>0</td>\n",
       "      <td>colt</td>\n",
       "      <td>150000</td>\n",
       "      <td>7</td>\n",
       "      <td>petrol</td>\n",
       "      <td>mitsubishi</td>\n",
       "      <td>yes</td>\n",
       "    </tr>\n",
       "  </tbody>\n",
       "</table>\n",
       "<p>10588 rows × 11 columns</p>\n",
       "</div>"
      ],
      "text/plain": [
       "        price vehicletype  registrationyear gearbox  power   model  mileage  \\\n",
       "7           0       sedan              1980  manual     50   other    40000   \n",
       "40          0         NaN              1990     NaN      0   corsa   150000   \n",
       "111         0         NaN              2017  manual      0    golf     5000   \n",
       "115         0       small              1999     NaN      0     NaN     5000   \n",
       "152         0         bus              2004  manual    101  meriva   150000   \n",
       "...       ...         ...               ...     ...    ...     ...      ...   \n",
       "353943      0         NaN              2000  manual     65   corsa   150000   \n",
       "353976      0       small              2002  manual     60  fiesta   150000   \n",
       "353986      0       small              1999  manual     53   swift   150000   \n",
       "354015      0       small              1999  manual     37   arosa   150000   \n",
       "354102      0         NaN              2005  manual      0    colt   150000   \n",
       "\n",
       "        registrationmonth fueltype       brand notrepaired  \n",
       "7                       7   petrol  volkswagen          no  \n",
       "40                      1   petrol        opel         NaN  \n",
       "111                    12   petrol  volkswagen         NaN  \n",
       "115                     0   petrol  volkswagen         NaN  \n",
       "152                    10      lpg        opel         yes  \n",
       "...                   ...      ...         ...         ...  \n",
       "353943                  0      NaN        opel         yes  \n",
       "353976                  3   petrol        ford         NaN  \n",
       "353986                  3   petrol      suzuki         NaN  \n",
       "354015                  7   petrol        seat         yes  \n",
       "354102                  7   petrol  mitsubishi         yes  \n",
       "\n",
       "[10588 rows x 11 columns]"
      ]
     },
     "execution_count": 16,
     "metadata": {},
     "output_type": "execute_result"
    }
   ],
   "source": [
    "df_car.loc[df_car['price'] == 0]"
   ]
  },
  {
   "cell_type": "markdown",
   "id": "e28c0597",
   "metadata": {
    "id": "e28c0597"
   },
   "source": [
    "If the price is zero, the model will learn that there are cars that can be priced at 0. If we look at row 111, the car only has 5000 miles and registered in 2017, it seems more like 0 maybe be a data entry error before data was crawled or downloaded. Therefore, we will remove 0."
   ]
  },
  {
   "cell_type": "code",
   "execution_count": 17,
   "id": "c87f8df9",
   "metadata": {
    "id": "c87f8df9",
    "outputId": "275a72a9-2061-44da-adab-cdc81d3a6e38"
   },
   "outputs": [
    {
     "data": {
      "text/plain": [
       "342077"
      ]
     },
     "execution_count": 17,
     "metadata": {},
     "output_type": "execute_result"
    }
   ],
   "source": [
    "# Excluding price = 0\n",
    "\n",
    "df_car = df_car.loc[df_car['price']!= 0]\n",
    "\n",
    "df_car.shape[0]"
   ]
  },
  {
   "cell_type": "code",
   "execution_count": 18,
   "id": "349578d3",
   "metadata": {
    "id": "349578d3",
    "outputId": "2f3df09a-efe3-4247-d9f9-b6e10b4418e4"
   },
   "outputs": [
    {
     "data": {
      "text/plain": [
       "registrationmonth\n",
       "3     33696\n",
       "0     32551\n",
       "6     30698\n",
       "4     28608\n",
       "5     28436\n",
       "7     26465\n",
       "10    25552\n",
       "12    23724\n",
       "11    23715\n",
       "9     23320\n",
       "1     22500\n",
       "8     22066\n",
       "2     20746\n",
       "Name: count, dtype: int64"
      ]
     },
     "execution_count": 18,
     "metadata": {},
     "output_type": "execute_result"
    }
   ],
   "source": [
    "# Checking registrationmonth column\n",
    "\n",
    "df_car['registrationmonth'].value_counts()"
   ]
  },
  {
   "cell_type": "code",
   "execution_count": 19,
   "id": "9ec9d51e",
   "metadata": {
    "id": "9ec9d51e",
    "outputId": "9146da7c-965d-4234-b761-b8ca86ae26ab"
   },
   "outputs": [
    {
     "data": {
      "text/plain": [
       "power\n",
       "0       35852\n",
       "75      23270\n",
       "60      15418\n",
       "150     14139\n",
       "101     12945\n",
       "        ...  \n",
       "2331        1\n",
       "2789        1\n",
       "519         1\n",
       "2461        1\n",
       "1241        1\n",
       "Name: count, Length: 693, dtype: int64"
      ]
     },
     "execution_count": 19,
     "metadata": {},
     "output_type": "execute_result"
    }
   ],
   "source": [
    "df_car['power'].value_counts()"
   ]
  },
  {
   "cell_type": "code",
   "execution_count": 20,
   "id": "62289a5c",
   "metadata": {
    "id": "62289a5c",
    "outputId": "92d9b929-6b11-49f3-c350-371137efc3ef"
   },
   "outputs": [
    {
     "data": {
      "image/png": "[encoded data removed]",
      "text/plain": [
       "<Figure size 400x500 with 1 Axes>"
      ]
     },
     "metadata": {},
     "output_type": "display_data"
    },
    {
     "data": {
      "image/png": "[encoded data removed]",
      "text/plain": [
       "<Figure size 400x500 with 1 Axes>"
      ]
     },
     "metadata": {},
     "output_type": "display_data"
    },
    {
     "data": {
      "image/png": "[encoded data removed]",
      "text/plain": [
       "<Figure size 400x500 with 1 Axes>"
      ]
     },
     "metadata": {},
     "output_type": "display_data"
    },
    {
     "data": {
      "image/png": "[encoded data removed]",
      "text/plain": [
       "<Figure size 400x500 with 1 Axes>"
      ]
     },
     "metadata": {},
     "output_type": "display_data"
    }
   ],
   "source": [
    "num_column = ['registrationyear','power','mileage','registrationmonth']\n",
    "\n",
    "for each_num_col in num_column:\n",
    "    plt.figure(figsize=(4,5))\n",
    "    plt.hist(df_car[each_num_col])\n",
    "    plt.title(each_num_col)\n",
    "    plt.show()\n",
    "\n"
   ]
  },
  {
   "cell_type": "markdown",
   "id": "6a8d23bd",
   "metadata": {
    "id": "6a8d23bd"
   },
   "source": [
    "**Observation**\n",
    "\n",
    "Majority of the car registration years are mid 1990s to mid 2010s. Both mileage and registration year are negatively skewed. There are more registration during January, July and December. I am not familiar with cars but assuming there maybe summer sale and year end sale that may bump the number"
   ]
  },
  {
   "cell_type": "code",
   "execution_count": 21,
   "id": "a29e0412",
   "metadata": {
    "id": "a29e0412",
    "outputId": "3ecc3885-35ac-4c99-8cb0-9ec4871bacda"
   },
   "outputs": [
    {
     "data": {
      "text/html": [
       "<div>\n",
       "<style scoped>\n",
       "    .dataframe tbody tr th:only-of-type {\n",
       "        vertical-align: middle;\n",
       "    }\n",
       "\n",
       "    .dataframe tbody tr th {\n",
       "        vertical-align: top;\n",
       "    }\n",
       "\n",
       "    .dataframe thead th {\n",
       "        text-align: right;\n",
       "    }\n",
       "</style>\n",
       "<table border=\"1\" class=\"dataframe\">\n",
       "  <thead>\n",
       "    <tr style=\"text-align: right;\">\n",
       "      <th></th>\n",
       "      <th>price</th>\n",
       "      <th>vehicletype</th>\n",
       "      <th>registrationyear</th>\n",
       "      <th>gearbox</th>\n",
       "      <th>power</th>\n",
       "      <th>model</th>\n",
       "      <th>mileage</th>\n",
       "      <th>registrationmonth</th>\n",
       "      <th>fueltype</th>\n",
       "      <th>brand</th>\n",
       "      <th>notrepaired</th>\n",
       "    </tr>\n",
       "  </thead>\n",
       "  <tbody>\n",
       "    <tr>\n",
       "      <th>0</th>\n",
       "      <td>480</td>\n",
       "      <td>NaN</td>\n",
       "      <td>1993</td>\n",
       "      <td>manual</td>\n",
       "      <td>0</td>\n",
       "      <td>golf</td>\n",
       "      <td>150000</td>\n",
       "      <td>0</td>\n",
       "      <td>petrol</td>\n",
       "      <td>volkswagen</td>\n",
       "      <td>NaN</td>\n",
       "    </tr>\n",
       "    <tr>\n",
       "      <th>9</th>\n",
       "      <td>999</td>\n",
       "      <td>small</td>\n",
       "      <td>1998</td>\n",
       "      <td>manual</td>\n",
       "      <td>101</td>\n",
       "      <td>golf</td>\n",
       "      <td>150000</td>\n",
       "      <td>0</td>\n",
       "      <td>NaN</td>\n",
       "      <td>volkswagen</td>\n",
       "      <td>NaN</td>\n",
       "    </tr>\n",
       "    <tr>\n",
       "      <th>16</th>\n",
       "      <td>300</td>\n",
       "      <td>NaN</td>\n",
       "      <td>2016</td>\n",
       "      <td>NaN</td>\n",
       "      <td>60</td>\n",
       "      <td>polo</td>\n",
       "      <td>150000</td>\n",
       "      <td>0</td>\n",
       "      <td>petrol</td>\n",
       "      <td>volkswagen</td>\n",
       "      <td>NaN</td>\n",
       "    </tr>\n",
       "    <tr>\n",
       "      <th>36</th>\n",
       "      <td>1600</td>\n",
       "      <td>other</td>\n",
       "      <td>1991</td>\n",
       "      <td>manual</td>\n",
       "      <td>75</td>\n",
       "      <td>kadett</td>\n",
       "      <td>70000</td>\n",
       "      <td>0</td>\n",
       "      <td>NaN</td>\n",
       "      <td>opel</td>\n",
       "      <td>NaN</td>\n",
       "    </tr>\n",
       "    <tr>\n",
       "      <th>54</th>\n",
       "      <td>4700</td>\n",
       "      <td>wagon</td>\n",
       "      <td>2005</td>\n",
       "      <td>manual</td>\n",
       "      <td>0</td>\n",
       "      <td>signum</td>\n",
       "      <td>150000</td>\n",
       "      <td>0</td>\n",
       "      <td>NaN</td>\n",
       "      <td>opel</td>\n",
       "      <td>no</td>\n",
       "    </tr>\n",
       "    <tr>\n",
       "      <th>...</th>\n",
       "      <td>...</td>\n",
       "      <td>...</td>\n",
       "      <td>...</td>\n",
       "      <td>...</td>\n",
       "      <td>...</td>\n",
       "      <td>...</td>\n",
       "      <td>...</td>\n",
       "      <td>...</td>\n",
       "      <td>...</td>\n",
       "      <td>...</td>\n",
       "      <td>...</td>\n",
       "    </tr>\n",
       "    <tr>\n",
       "      <th>354043</th>\n",
       "      <td>3500</td>\n",
       "      <td>NaN</td>\n",
       "      <td>1995</td>\n",
       "      <td>NaN</td>\n",
       "      <td>0</td>\n",
       "      <td>polo</td>\n",
       "      <td>150000</td>\n",
       "      <td>0</td>\n",
       "      <td>NaN</td>\n",
       "      <td>volkswagen</td>\n",
       "      <td>NaN</td>\n",
       "    </tr>\n",
       "    <tr>\n",
       "      <th>354056</th>\n",
       "      <td>400</td>\n",
       "      <td>wagon</td>\n",
       "      <td>1991</td>\n",
       "      <td>manual</td>\n",
       "      <td>0</td>\n",
       "      <td>legacy</td>\n",
       "      <td>150000</td>\n",
       "      <td>0</td>\n",
       "      <td>petrol</td>\n",
       "      <td>subaru</td>\n",
       "      <td>NaN</td>\n",
       "    </tr>\n",
       "    <tr>\n",
       "      <th>354064</th>\n",
       "      <td>1300</td>\n",
       "      <td>small</td>\n",
       "      <td>1999</td>\n",
       "      <td>manual</td>\n",
       "      <td>75</td>\n",
       "      <td>2_reihe</td>\n",
       "      <td>125000</td>\n",
       "      <td>0</td>\n",
       "      <td>NaN</td>\n",
       "      <td>peugeot</td>\n",
       "      <td>NaN</td>\n",
       "    </tr>\n",
       "    <tr>\n",
       "      <th>354067</th>\n",
       "      <td>350</td>\n",
       "      <td>small</td>\n",
       "      <td>1996</td>\n",
       "      <td>NaN</td>\n",
       "      <td>65</td>\n",
       "      <td>punto</td>\n",
       "      <td>150000</td>\n",
       "      <td>0</td>\n",
       "      <td>NaN</td>\n",
       "      <td>fiat</td>\n",
       "      <td>NaN</td>\n",
       "    </tr>\n",
       "    <tr>\n",
       "      <th>354075</th>\n",
       "      <td>11500</td>\n",
       "      <td>sedan</td>\n",
       "      <td>2004</td>\n",
       "      <td>auto</td>\n",
       "      <td>445</td>\n",
       "      <td>7er</td>\n",
       "      <td>125000</td>\n",
       "      <td>0</td>\n",
       "      <td>petrol</td>\n",
       "      <td>bmw</td>\n",
       "      <td>NaN</td>\n",
       "    </tr>\n",
       "  </tbody>\n",
       "</table>\n",
       "<p>32551 rows × 11 columns</p>\n",
       "</div>"
      ],
      "text/plain": [
       "        price vehicletype  registrationyear gearbox  power    model  mileage  \\\n",
       "0         480         NaN              1993  manual      0     golf   150000   \n",
       "9         999       small              1998  manual    101     golf   150000   \n",
       "16        300         NaN              2016     NaN     60     polo   150000   \n",
       "36       1600       other              1991  manual     75   kadett    70000   \n",
       "54       4700       wagon              2005  manual      0   signum   150000   \n",
       "...       ...         ...               ...     ...    ...      ...      ...   \n",
       "354043   3500         NaN              1995     NaN      0     polo   150000   \n",
       "354056    400       wagon              1991  manual      0   legacy   150000   \n",
       "354064   1300       small              1999  manual     75  2_reihe   125000   \n",
       "354067    350       small              1996     NaN     65    punto   150000   \n",
       "354075  11500       sedan              2004    auto    445      7er   125000   \n",
       "\n",
       "        registrationmonth fueltype       brand notrepaired  \n",
       "0                       0   petrol  volkswagen         NaN  \n",
       "9                       0      NaN  volkswagen         NaN  \n",
       "16                      0   petrol  volkswagen         NaN  \n",
       "36                      0      NaN        opel         NaN  \n",
       "54                      0      NaN        opel          no  \n",
       "...                   ...      ...         ...         ...  \n",
       "354043                  0      NaN  volkswagen         NaN  \n",
       "354056                  0   petrol      subaru         NaN  \n",
       "354064                  0      NaN     peugeot         NaN  \n",
       "354067                  0      NaN        fiat         NaN  \n",
       "354075                  0   petrol         bmw         NaN  \n",
       "\n",
       "[32551 rows x 11 columns]"
      ]
     },
     "execution_count": 21,
     "metadata": {},
     "output_type": "execute_result"
    }
   ],
   "source": [
    "# Examine rows with 0 month\n",
    "\n",
    "df_car.loc[df_car['registrationmonth'] == 0]"
   ]
  },
  {
   "cell_type": "code",
   "execution_count": 22,
   "id": "fe25d8f0",
   "metadata": {
    "id": "fe25d8f0",
    "outputId": "4607ce37-66af-446a-c03c-38a94166bb01"
   },
   "outputs": [
    {
     "data": {
      "text/plain": [
       "309526"
      ]
     },
     "execution_count": 22,
     "metadata": {},
     "output_type": "execute_result"
    }
   ],
   "source": [
    "# Excluding registrationmonth with 0\n",
    "\n",
    "df_car = df_car.loc[df_car['registrationmonth']!= 0]\n",
    "\n",
    "df_car.shape[0]"
   ]
  },
  {
   "cell_type": "markdown",
   "id": "4df48257",
   "metadata": {
    "id": "4df48257"
   },
   "source": [
    "It seems like an error where registration month can be zero. There are only 12 months in a year and no 0 month. Therefore, we will remove month with zeor."
   ]
  },
  {
   "cell_type": "code",
   "execution_count": 23,
   "id": "1d06566f",
   "metadata": {
    "id": "1d06566f",
    "outputId": "85264adc-743d-4cf5-c212-59e88a49ac36"
   },
   "outputs": [
    {
     "data": {
      "text/plain": [
       "power\n",
       "0       23332\n",
       "75      21069\n",
       "60      13923\n",
       "150     13092\n",
       "140     12218\n",
       "        ...  \n",
       "2789        1\n",
       "519         1\n",
       "585         1\n",
       "2461        1\n",
       "1241        1\n",
       "Name: count, Length: 662, dtype: int64"
      ]
     },
     "execution_count": 23,
     "metadata": {},
     "output_type": "execute_result"
    }
   ],
   "source": [
    "# Checking power column\n",
    "\n",
    "df_car['power'].value_counts()"
   ]
  },
  {
   "cell_type": "code",
   "execution_count": 24,
   "id": "3e202a71",
   "metadata": {
    "id": "3e202a71",
    "outputId": "9309fdfa-a3c9-4840-ee65-9383aa68ff6f"
   },
   "outputs": [
    {
     "data": {
      "text/html": [
       "<div>\n",
       "<style scoped>\n",
       "    .dataframe tbody tr th:only-of-type {\n",
       "        vertical-align: middle;\n",
       "    }\n",
       "\n",
       "    .dataframe tbody tr th {\n",
       "        vertical-align: top;\n",
       "    }\n",
       "\n",
       "    .dataframe thead th {\n",
       "        text-align: right;\n",
       "    }\n",
       "</style>\n",
       "<table border=\"1\" class=\"dataframe\">\n",
       "  <thead>\n",
       "    <tr style=\"text-align: right;\">\n",
       "      <th></th>\n",
       "      <th>price</th>\n",
       "      <th>vehicletype</th>\n",
       "      <th>registrationyear</th>\n",
       "      <th>gearbox</th>\n",
       "      <th>power</th>\n",
       "      <th>model</th>\n",
       "      <th>mileage</th>\n",
       "      <th>registrationmonth</th>\n",
       "      <th>fueltype</th>\n",
       "      <th>brand</th>\n",
       "      <th>notrepaired</th>\n",
       "    </tr>\n",
       "  </thead>\n",
       "  <tbody>\n",
       "    <tr>\n",
       "      <th>32</th>\n",
       "      <td>245</td>\n",
       "      <td>sedan</td>\n",
       "      <td>1994</td>\n",
       "      <td>NaN</td>\n",
       "      <td>0</td>\n",
       "      <td>golf</td>\n",
       "      <td>150000</td>\n",
       "      <td>2</td>\n",
       "      <td>petrol</td>\n",
       "      <td>volkswagen</td>\n",
       "      <td>no</td>\n",
       "    </tr>\n",
       "    <tr>\n",
       "      <th>37</th>\n",
       "      <td>1500</td>\n",
       "      <td>NaN</td>\n",
       "      <td>2016</td>\n",
       "      <td>NaN</td>\n",
       "      <td>0</td>\n",
       "      <td>kangoo</td>\n",
       "      <td>150000</td>\n",
       "      <td>1</td>\n",
       "      <td>gasoline</td>\n",
       "      <td>renault</td>\n",
       "      <td>no</td>\n",
       "    </tr>\n",
       "    <tr>\n",
       "      <th>55</th>\n",
       "      <td>550</td>\n",
       "      <td>wagon</td>\n",
       "      <td>1999</td>\n",
       "      <td>manual</td>\n",
       "      <td>0</td>\n",
       "      <td>astra</td>\n",
       "      <td>150000</td>\n",
       "      <td>8</td>\n",
       "      <td>gasoline</td>\n",
       "      <td>opel</td>\n",
       "      <td>yes</td>\n",
       "    </tr>\n",
       "    <tr>\n",
       "      <th>70</th>\n",
       "      <td>800</td>\n",
       "      <td>small</td>\n",
       "      <td>1993</td>\n",
       "      <td>manual</td>\n",
       "      <td>0</td>\n",
       "      <td>polo</td>\n",
       "      <td>150000</td>\n",
       "      <td>3</td>\n",
       "      <td>petrol</td>\n",
       "      <td>volkswagen</td>\n",
       "      <td>no</td>\n",
       "    </tr>\n",
       "    <tr>\n",
       "      <th>90</th>\n",
       "      <td>2400</td>\n",
       "      <td>sedan</td>\n",
       "      <td>2003</td>\n",
       "      <td>manual</td>\n",
       "      <td>0</td>\n",
       "      <td>a4</td>\n",
       "      <td>150000</td>\n",
       "      <td>9</td>\n",
       "      <td>gasoline</td>\n",
       "      <td>audi</td>\n",
       "      <td>NaN</td>\n",
       "    </tr>\n",
       "    <tr>\n",
       "      <th>...</th>\n",
       "      <td>...</td>\n",
       "      <td>...</td>\n",
       "      <td>...</td>\n",
       "      <td>...</td>\n",
       "      <td>...</td>\n",
       "      <td>...</td>\n",
       "      <td>...</td>\n",
       "      <td>...</td>\n",
       "      <td>...</td>\n",
       "      <td>...</td>\n",
       "      <td>...</td>\n",
       "    </tr>\n",
       "    <tr>\n",
       "      <th>354074</th>\n",
       "      <td>3299</td>\n",
       "      <td>NaN</td>\n",
       "      <td>2005</td>\n",
       "      <td>auto</td>\n",
       "      <td>0</td>\n",
       "      <td>outlander</td>\n",
       "      <td>150000</td>\n",
       "      <td>4</td>\n",
       "      <td>petrol</td>\n",
       "      <td>mitsubishi</td>\n",
       "      <td>NaN</td>\n",
       "    </tr>\n",
       "    <tr>\n",
       "      <th>354076</th>\n",
       "      <td>180</td>\n",
       "      <td>NaN</td>\n",
       "      <td>1995</td>\n",
       "      <td>NaN</td>\n",
       "      <td>0</td>\n",
       "      <td>NaN</td>\n",
       "      <td>125000</td>\n",
       "      <td>3</td>\n",
       "      <td>petrol</td>\n",
       "      <td>opel</td>\n",
       "      <td>NaN</td>\n",
       "    </tr>\n",
       "    <tr>\n",
       "      <th>354084</th>\n",
       "      <td>2600</td>\n",
       "      <td>NaN</td>\n",
       "      <td>2005</td>\n",
       "      <td>auto</td>\n",
       "      <td>0</td>\n",
       "      <td>c_klasse</td>\n",
       "      <td>150000</td>\n",
       "      <td>9</td>\n",
       "      <td>NaN</td>\n",
       "      <td>mercedes_benz</td>\n",
       "      <td>NaN</td>\n",
       "    </tr>\n",
       "    <tr>\n",
       "      <th>354101</th>\n",
       "      <td>1150</td>\n",
       "      <td>bus</td>\n",
       "      <td>2000</td>\n",
       "      <td>manual</td>\n",
       "      <td>0</td>\n",
       "      <td>zafira</td>\n",
       "      <td>150000</td>\n",
       "      <td>3</td>\n",
       "      <td>petrol</td>\n",
       "      <td>opel</td>\n",
       "      <td>no</td>\n",
       "    </tr>\n",
       "    <tr>\n",
       "      <th>354103</th>\n",
       "      <td>2200</td>\n",
       "      <td>NaN</td>\n",
       "      <td>2005</td>\n",
       "      <td>NaN</td>\n",
       "      <td>0</td>\n",
       "      <td>NaN</td>\n",
       "      <td>20000</td>\n",
       "      <td>1</td>\n",
       "      <td>NaN</td>\n",
       "      <td>sonstige_autos</td>\n",
       "      <td>NaN</td>\n",
       "    </tr>\n",
       "  </tbody>\n",
       "</table>\n",
       "<p>23332 rows × 11 columns</p>\n",
       "</div>"
      ],
      "text/plain": [
       "        price vehicletype  registrationyear gearbox  power      model  \\\n",
       "32        245       sedan              1994     NaN      0       golf   \n",
       "37       1500         NaN              2016     NaN      0     kangoo   \n",
       "55        550       wagon              1999  manual      0      astra   \n",
       "70        800       small              1993  manual      0       polo   \n",
       "90       2400       sedan              2003  manual      0         a4   \n",
       "...       ...         ...               ...     ...    ...        ...   \n",
       "354074   3299         NaN              2005    auto      0  outlander   \n",
       "354076    180         NaN              1995     NaN      0        NaN   \n",
       "354084   2600         NaN              2005    auto      0   c_klasse   \n",
       "354101   1150         bus              2000  manual      0     zafira   \n",
       "354103   2200         NaN              2005     NaN      0        NaN   \n",
       "\n",
       "        mileage  registrationmonth  fueltype           brand notrepaired  \n",
       "32       150000                  2    petrol      volkswagen          no  \n",
       "37       150000                  1  gasoline         renault          no  \n",
       "55       150000                  8  gasoline            opel         yes  \n",
       "70       150000                  3    petrol      volkswagen          no  \n",
       "90       150000                  9  gasoline            audi         NaN  \n",
       "...         ...                ...       ...             ...         ...  \n",
       "354074   150000                  4    petrol      mitsubishi         NaN  \n",
       "354076   125000                  3    petrol            opel         NaN  \n",
       "354084   150000                  9       NaN   mercedes_benz         NaN  \n",
       "354101   150000                  3    petrol            opel          no  \n",
       "354103    20000                  1       NaN  sonstige_autos         NaN  \n",
       "\n",
       "[23332 rows x 11 columns]"
      ]
     },
     "execution_count": 24,
     "metadata": {},
     "output_type": "execute_result"
    }
   ],
   "source": [
    "# Examine rows with 0 power\n",
    "\n",
    "df_car.loc[df_car['power'] == 0]"
   ]
  },
  {
   "cell_type": "markdown",
   "id": "846d2030",
   "metadata": {
    "id": "846d2030"
   },
   "source": [
    "There seems to be another error where power is 0. If there is no power, how could a car move? Therefore, we will remove the 0s."
   ]
  },
  {
   "cell_type": "code",
   "execution_count": 25,
   "id": "662bf1b9",
   "metadata": {
    "id": "662bf1b9",
    "outputId": "d9e85cb8-3b15-4bac-c51e-bff5589e0869"
   },
   "outputs": [
    {
     "name": "stdout",
     "output_type": "stream",
     "text": [
      "<class 'pandas.core.frame.DataFrame'>\n",
      "Index: 286194 entries, 1 to 354106\n",
      "Data columns (total 11 columns):\n",
      " #   Column             Non-Null Count   Dtype \n",
      "---  ------             --------------   ----- \n",
      " 0   price              286194 non-null  int64 \n",
      " 1   vehicletype        270353 non-null  object\n",
      " 2   registrationyear   286194 non-null  int64 \n",
      " 3   gearbox            282010 non-null  object\n",
      " 4   power              286194 non-null  int64 \n",
      " 5   model              276400 non-null  object\n",
      " 6   mileage            286194 non-null  int64 \n",
      " 7   registrationmonth  286194 non-null  int64 \n",
      " 8   fueltype           271564 non-null  object\n",
      " 9   brand              286194 non-null  object\n",
      " 10  notrepaired        249111 non-null  object\n",
      "dtypes: int64(5), object(6)\n",
      "memory usage: 26.2+ MB\n"
     ]
    }
   ],
   "source": [
    "# Exclude rows with 0\n",
    "\n",
    "df_car = df_car.loc[df_car['power']!= 0]\n",
    "\n",
    "df_car.info()"
   ]
  },
  {
   "cell_type": "markdown",
   "id": "b7cb4e27",
   "metadata": {
    "id": "b7cb4e27"
   },
   "source": [
    "### Missing data"
   ]
  },
  {
   "cell_type": "markdown",
   "id": "f26e7bcc",
   "metadata": {
    "id": "f26e7bcc"
   },
   "source": [
    "There are missing data in in `vehicletype`, `gearbox`, `model`, `fueltype`, and `notrepaired`. These are all categorical columns, meaning we are unable to fill the null with a mean or median. All these columsn are also in string format. For example, there is no median or mean to vehicletype. Therefore, will fill it for unknown first."
   ]
  },
  {
   "cell_type": "code",
   "execution_count": 26,
   "id": "f8b43bfc",
   "metadata": {
    "id": "f8b43bfc",
    "outputId": "488eec68-3dce-48ff-c09e-6e4d80193851"
   },
   "outputs": [
    {
     "data": {
      "text/plain": [
       "price                0\n",
       "vehicletype          0\n",
       "registrationyear     0\n",
       "gearbox              0\n",
       "power                0\n",
       "model                0\n",
       "mileage              0\n",
       "registrationmonth    0\n",
       "fueltype             0\n",
       "brand                0\n",
       "notrepaired          0\n",
       "dtype: int64"
      ]
     },
     "execution_count": 26,
     "metadata": {},
     "output_type": "execute_result"
    }
   ],
   "source": [
    "# Filling NA with a string 'unknown'\n",
    "\n",
    "df_car = df_car.fillna('unknown')\n",
    "\n",
    "df_car.isna().sum()"
   ]
  },
  {
   "cell_type": "code",
   "execution_count": 27,
   "id": "fbd87e57",
   "metadata": {
    "id": "fbd87e57",
    "outputId": "734ed33a-90d6-4769-99d3-c3e0a2f81398"
   },
   "outputs": [
    {
     "name": "stdout",
     "output_type": "stream",
     "text": [
      "<class 'pandas.core.frame.DataFrame'>\n",
      "Index: 286194 entries, 1 to 354106\n",
      "Data columns (total 11 columns):\n",
      " #   Column             Non-Null Count   Dtype \n",
      "---  ------             --------------   ----- \n",
      " 0   price              286194 non-null  int64 \n",
      " 1   vehicletype        286194 non-null  object\n",
      " 2   registrationyear   286194 non-null  int64 \n",
      " 3   gearbox            286194 non-null  object\n",
      " 4   power              286194 non-null  int64 \n",
      " 5   model              286194 non-null  object\n",
      " 6   mileage            286194 non-null  int64 \n",
      " 7   registrationmonth  286194 non-null  int64 \n",
      " 8   fueltype           286194 non-null  object\n",
      " 9   brand              286194 non-null  object\n",
      " 10  notrepaired        286194 non-null  object\n",
      "dtypes: int64(5), object(6)\n",
      "memory usage: 26.2+ MB\n"
     ]
    }
   ],
   "source": [
    "df_car.info()"
   ]
  },
  {
   "cell_type": "markdown",
   "id": "5e89e265",
   "metadata": {
    "id": "5e89e265"
   },
   "source": [
    "We have performed the followings to prepare our data for training:\n",
    "1. Rename all columns to lowercase\n",
    "2. Remove duplicates\n",
    "3. Drop rows with 0 values\n",
    "4. Drop columns that are not relevant to training our model"
   ]
  },
  {
   "cell_type": "code",
   "execution_count": 28,
   "id": "d2003c43",
   "metadata": {
    "id": "d2003c43",
    "outputId": "85c3c60c-0fce-484a-f1ce-1b8083a51880"
   },
   "outputs": [
    {
     "data": {
      "image/png": "[encoded data removed]",
      "text/plain": [
       "<Figure size 800x800 with 1 Axes>"
      ]
     },
     "metadata": {},
     "output_type": "display_data"
    },
    {
     "data": {
      "image/png": "[encoded data removed]",
      "text/plain": [
       "<Figure size 800x800 with 1 Axes>"
      ]
     },
     "metadata": {},
     "output_type": "display_data"
    },
    {
     "data": {
      "image/png": "[encoded data removed]",
      "text/plain": [
       "<Figure size 800x800 with 1 Axes>"
      ]
     },
     "metadata": {},
     "output_type": "display_data"
    },
    {
     "data": {
      "image/png": "[encoded data removed]",
      "text/plain": [
       "<Figure size 800x800 with 1 Axes>"
      ]
     },
     "metadata": {},
     "output_type": "display_data"
    },
    {
     "data": {
      "image/png": "[encoded data removed]",
      "text/plain": [
       "<Figure size 800x800 with 1 Axes>"
      ]
     },
     "metadata": {},
     "output_type": "display_data"
    }
   ],
   "source": [
    "cat_columns = ['vehicletype','gearbox','model','fueltype','brand']\n",
    "\n",
    "for each_col in cat_columns:\n",
    "    plt.figure()\n",
    "    df_car[each_col].value_counts()[:10].plot(kind='bar', figsize=(8,8))\n",
    "    plt.xticks(fontsize=15)\n",
    "    plt.yticks(fontsize=15)\n",
    "    plt.title(each_col, fontsize=15)\n",
    "    plt.show()"
   ]
  },
  {
   "cell_type": "markdown",
   "id": "973d8ae1",
   "metadata": {
    "id": "973d8ae1"
   },
   "source": [
    "**Observation**\n",
    "\n",
    "Sedan is the most popular vehicle type. Manual is most popular gearbox type. Volkswagen is also the most popular brands. It seems like Volkswagen dominates the market share in the area that Rusty Bargin operates in."
   ]
  },
  {
   "cell_type": "markdown",
   "id": "ebda81fc",
   "metadata": {
    "id": "ebda81fc"
   },
   "source": [
    "# Data Processing"
   ]
  },
  {
   "cell_type": "markdown",
   "id": "3dd1d466",
   "metadata": {
    "id": "3dd1d466"
   },
   "source": [
    "### Categorical data transformation"
   ]
  },
  {
   "cell_type": "markdown",
   "id": "121743b9",
   "metadata": {
    "id": "121743b9"
   },
   "source": [
    "Before we train test split the data, we will transform the categorical columns to values. Afterwards, we will scale all columns to make them equally scaled.\n",
    "\n",
    "For catboost, we do not need to encode the ecategorical columns. However, we need the categorical columns to be encoded for linear regression, decision tree and random forest. Therefore, we will create 2 different sets of features and target."
   ]
  },
  {
   "cell_type": "code",
   "execution_count": 29,
   "id": "331a4175",
   "metadata": {
    "id": "331a4175"
   },
   "outputs": [],
   "source": [
    "# Make a copy of the data for when we need it\n",
    "\n",
    "df_car_copy = df_car.copy()"
   ]
  },
  {
   "cell_type": "code",
   "execution_count": 30,
   "id": "192432c5",
   "metadata": {
    "id": "192432c5",
    "outputId": "5b55597b-bf43-42f3-9263-b8f0a9a1e503"
   },
   "outputs": [
    {
     "data": {
      "text/html": [
       "<div>\n",
       "<style scoped>\n",
       "    .dataframe tbody tr th:only-of-type {\n",
       "        vertical-align: middle;\n",
       "    }\n",
       "\n",
       "    .dataframe tbody tr th {\n",
       "        vertical-align: top;\n",
       "    }\n",
       "\n",
       "    .dataframe thead th {\n",
       "        text-align: right;\n",
       "    }\n",
       "</style>\n",
       "<table border=\"1\" class=\"dataframe\">\n",
       "  <thead>\n",
       "    <tr style=\"text-align: right;\">\n",
       "      <th></th>\n",
       "      <th>price</th>\n",
       "      <th>registrationyear</th>\n",
       "      <th>power</th>\n",
       "      <th>mileage</th>\n",
       "      <th>registrationmonth</th>\n",
       "      <th>vehicletype_bus</th>\n",
       "      <th>vehicletype_convertible</th>\n",
       "      <th>vehicletype_coupe</th>\n",
       "      <th>vehicletype_other</th>\n",
       "      <th>vehicletype_sedan</th>\n",
       "      <th>...</th>\n",
       "      <th>brand_sonstige_autos</th>\n",
       "      <th>brand_subaru</th>\n",
       "      <th>brand_suzuki</th>\n",
       "      <th>brand_toyota</th>\n",
       "      <th>brand_trabant</th>\n",
       "      <th>brand_volkswagen</th>\n",
       "      <th>brand_volvo</th>\n",
       "      <th>notrepaired_no</th>\n",
       "      <th>notrepaired_unknown</th>\n",
       "      <th>notrepaired_yes</th>\n",
       "    </tr>\n",
       "  </thead>\n",
       "  <tbody>\n",
       "    <tr>\n",
       "      <th>1</th>\n",
       "      <td>18300</td>\n",
       "      <td>2011</td>\n",
       "      <td>190</td>\n",
       "      <td>125000</td>\n",
       "      <td>5</td>\n",
       "      <td>False</td>\n",
       "      <td>False</td>\n",
       "      <td>True</td>\n",
       "      <td>False</td>\n",
       "      <td>False</td>\n",
       "      <td>...</td>\n",
       "      <td>False</td>\n",
       "      <td>False</td>\n",
       "      <td>False</td>\n",
       "      <td>False</td>\n",
       "      <td>False</td>\n",
       "      <td>False</td>\n",
       "      <td>False</td>\n",
       "      <td>False</td>\n",
       "      <td>False</td>\n",
       "      <td>True</td>\n",
       "    </tr>\n",
       "    <tr>\n",
       "      <th>2</th>\n",
       "      <td>9800</td>\n",
       "      <td>2004</td>\n",
       "      <td>163</td>\n",
       "      <td>125000</td>\n",
       "      <td>8</td>\n",
       "      <td>False</td>\n",
       "      <td>False</td>\n",
       "      <td>False</td>\n",
       "      <td>False</td>\n",
       "      <td>False</td>\n",
       "      <td>...</td>\n",
       "      <td>False</td>\n",
       "      <td>False</td>\n",
       "      <td>False</td>\n",
       "      <td>False</td>\n",
       "      <td>False</td>\n",
       "      <td>False</td>\n",
       "      <td>False</td>\n",
       "      <td>False</td>\n",
       "      <td>True</td>\n",
       "      <td>False</td>\n",
       "    </tr>\n",
       "    <tr>\n",
       "      <th>3</th>\n",
       "      <td>1500</td>\n",
       "      <td>2001</td>\n",
       "      <td>75</td>\n",
       "      <td>150000</td>\n",
       "      <td>6</td>\n",
       "      <td>False</td>\n",
       "      <td>False</td>\n",
       "      <td>False</td>\n",
       "      <td>False</td>\n",
       "      <td>False</td>\n",
       "      <td>...</td>\n",
       "      <td>False</td>\n",
       "      <td>False</td>\n",
       "      <td>False</td>\n",
       "      <td>False</td>\n",
       "      <td>False</td>\n",
       "      <td>True</td>\n",
       "      <td>False</td>\n",
       "      <td>True</td>\n",
       "      <td>False</td>\n",
       "      <td>False</td>\n",
       "    </tr>\n",
       "    <tr>\n",
       "      <th>4</th>\n",
       "      <td>3600</td>\n",
       "      <td>2008</td>\n",
       "      <td>69</td>\n",
       "      <td>90000</td>\n",
       "      <td>7</td>\n",
       "      <td>False</td>\n",
       "      <td>False</td>\n",
       "      <td>False</td>\n",
       "      <td>False</td>\n",
       "      <td>False</td>\n",
       "      <td>...</td>\n",
       "      <td>False</td>\n",
       "      <td>False</td>\n",
       "      <td>False</td>\n",
       "      <td>False</td>\n",
       "      <td>False</td>\n",
       "      <td>False</td>\n",
       "      <td>False</td>\n",
       "      <td>True</td>\n",
       "      <td>False</td>\n",
       "      <td>False</td>\n",
       "    </tr>\n",
       "    <tr>\n",
       "      <th>5</th>\n",
       "      <td>650</td>\n",
       "      <td>1995</td>\n",
       "      <td>102</td>\n",
       "      <td>150000</td>\n",
       "      <td>10</td>\n",
       "      <td>False</td>\n",
       "      <td>False</td>\n",
       "      <td>False</td>\n",
       "      <td>False</td>\n",
       "      <td>True</td>\n",
       "      <td>...</td>\n",
       "      <td>False</td>\n",
       "      <td>False</td>\n",
       "      <td>False</td>\n",
       "      <td>False</td>\n",
       "      <td>False</td>\n",
       "      <td>False</td>\n",
       "      <td>False</td>\n",
       "      <td>False</td>\n",
       "      <td>False</td>\n",
       "      <td>True</td>\n",
       "    </tr>\n",
       "    <tr>\n",
       "      <th>...</th>\n",
       "      <td>...</td>\n",
       "      <td>...</td>\n",
       "      <td>...</td>\n",
       "      <td>...</td>\n",
       "      <td>...</td>\n",
       "      <td>...</td>\n",
       "      <td>...</td>\n",
       "      <td>...</td>\n",
       "      <td>...</td>\n",
       "      <td>...</td>\n",
       "      <td>...</td>\n",
       "      <td>...</td>\n",
       "      <td>...</td>\n",
       "      <td>...</td>\n",
       "      <td>...</td>\n",
       "      <td>...</td>\n",
       "      <td>...</td>\n",
       "      <td>...</td>\n",
       "      <td>...</td>\n",
       "      <td>...</td>\n",
       "      <td>...</td>\n",
       "    </tr>\n",
       "    <tr>\n",
       "      <th>354099</th>\n",
       "      <td>5250</td>\n",
       "      <td>2016</td>\n",
       "      <td>150</td>\n",
       "      <td>150000</td>\n",
       "      <td>12</td>\n",
       "      <td>False</td>\n",
       "      <td>False</td>\n",
       "      <td>False</td>\n",
       "      <td>False</td>\n",
       "      <td>False</td>\n",
       "      <td>...</td>\n",
       "      <td>False</td>\n",
       "      <td>False</td>\n",
       "      <td>False</td>\n",
       "      <td>False</td>\n",
       "      <td>False</td>\n",
       "      <td>False</td>\n",
       "      <td>False</td>\n",
       "      <td>True</td>\n",
       "      <td>False</td>\n",
       "      <td>False</td>\n",
       "    </tr>\n",
       "    <tr>\n",
       "      <th>354100</th>\n",
       "      <td>3200</td>\n",
       "      <td>2004</td>\n",
       "      <td>225</td>\n",
       "      <td>150000</td>\n",
       "      <td>5</td>\n",
       "      <td>False</td>\n",
       "      <td>False</td>\n",
       "      <td>False</td>\n",
       "      <td>False</td>\n",
       "      <td>True</td>\n",
       "      <td>...</td>\n",
       "      <td>False</td>\n",
       "      <td>False</td>\n",
       "      <td>False</td>\n",
       "      <td>False</td>\n",
       "      <td>False</td>\n",
       "      <td>False</td>\n",
       "      <td>False</td>\n",
       "      <td>False</td>\n",
       "      <td>False</td>\n",
       "      <td>True</td>\n",
       "    </tr>\n",
       "    <tr>\n",
       "      <th>354104</th>\n",
       "      <td>1199</td>\n",
       "      <td>2000</td>\n",
       "      <td>101</td>\n",
       "      <td>125000</td>\n",
       "      <td>3</td>\n",
       "      <td>False</td>\n",
       "      <td>True</td>\n",
       "      <td>False</td>\n",
       "      <td>False</td>\n",
       "      <td>False</td>\n",
       "      <td>...</td>\n",
       "      <td>False</td>\n",
       "      <td>False</td>\n",
       "      <td>False</td>\n",
       "      <td>False</td>\n",
       "      <td>False</td>\n",
       "      <td>False</td>\n",
       "      <td>False</td>\n",
       "      <td>True</td>\n",
       "      <td>False</td>\n",
       "      <td>False</td>\n",
       "    </tr>\n",
       "    <tr>\n",
       "      <th>354105</th>\n",
       "      <td>9200</td>\n",
       "      <td>1996</td>\n",
       "      <td>102</td>\n",
       "      <td>150000</td>\n",
       "      <td>3</td>\n",
       "      <td>True</td>\n",
       "      <td>False</td>\n",
       "      <td>False</td>\n",
       "      <td>False</td>\n",
       "      <td>False</td>\n",
       "      <td>...</td>\n",
       "      <td>False</td>\n",
       "      <td>False</td>\n",
       "      <td>False</td>\n",
       "      <td>False</td>\n",
       "      <td>False</td>\n",
       "      <td>True</td>\n",
       "      <td>False</td>\n",
       "      <td>True</td>\n",
       "      <td>False</td>\n",
       "      <td>False</td>\n",
       "    </tr>\n",
       "    <tr>\n",
       "      <th>354106</th>\n",
       "      <td>3400</td>\n",
       "      <td>2002</td>\n",
       "      <td>100</td>\n",
       "      <td>150000</td>\n",
       "      <td>6</td>\n",
       "      <td>False</td>\n",
       "      <td>False</td>\n",
       "      <td>False</td>\n",
       "      <td>False</td>\n",
       "      <td>False</td>\n",
       "      <td>...</td>\n",
       "      <td>False</td>\n",
       "      <td>False</td>\n",
       "      <td>False</td>\n",
       "      <td>False</td>\n",
       "      <td>False</td>\n",
       "      <td>True</td>\n",
       "      <td>False</td>\n",
       "      <td>False</td>\n",
       "      <td>True</td>\n",
       "      <td>False</td>\n",
       "    </tr>\n",
       "  </tbody>\n",
       "</table>\n",
       "<p>286194 rows × 318 columns</p>\n",
       "</div>"
      ],
      "text/plain": [
       "        price  registrationyear  power  mileage  registrationmonth  \\\n",
       "1       18300              2011    190   125000                  5   \n",
       "2        9800              2004    163   125000                  8   \n",
       "3        1500              2001     75   150000                  6   \n",
       "4        3600              2008     69    90000                  7   \n",
       "5         650              1995    102   150000                 10   \n",
       "...       ...               ...    ...      ...                ...   \n",
       "354099   5250              2016    150   150000                 12   \n",
       "354100   3200              2004    225   150000                  5   \n",
       "354104   1199              2000    101   125000                  3   \n",
       "354105   9200              1996    102   150000                  3   \n",
       "354106   3400              2002    100   150000                  6   \n",
       "\n",
       "        vehicletype_bus  vehicletype_convertible  vehicletype_coupe  \\\n",
       "1                 False                    False               True   \n",
       "2                 False                    False              False   \n",
       "3                 False                    False              False   \n",
       "4                 False                    False              False   \n",
       "5                 False                    False              False   \n",
       "...                 ...                      ...                ...   \n",
       "354099            False                    False              False   \n",
       "354100            False                    False              False   \n",
       "354104            False                     True              False   \n",
       "354105             True                    False              False   \n",
       "354106            False                    False              False   \n",
       "\n",
       "        vehicletype_other  vehicletype_sedan  ...  brand_sonstige_autos  \\\n",
       "1                   False              False  ...                 False   \n",
       "2                   False              False  ...                 False   \n",
       "3                   False              False  ...                 False   \n",
       "4                   False              False  ...                 False   \n",
       "5                   False               True  ...                 False   \n",
       "...                   ...                ...  ...                   ...   \n",
       "354099              False              False  ...                 False   \n",
       "354100              False               True  ...                 False   \n",
       "354104              False              False  ...                 False   \n",
       "354105              False              False  ...                 False   \n",
       "354106              False              False  ...                 False   \n",
       "\n",
       "        brand_subaru  brand_suzuki  brand_toyota  brand_trabant  \\\n",
       "1              False         False         False          False   \n",
       "2              False         False         False          False   \n",
       "3              False         False         False          False   \n",
       "4              False         False         False          False   \n",
       "5              False         False         False          False   \n",
       "...              ...           ...           ...            ...   \n",
       "354099         False         False         False          False   \n",
       "354100         False         False         False          False   \n",
       "354104         False         False         False          False   \n",
       "354105         False         False         False          False   \n",
       "354106         False         False         False          False   \n",
       "\n",
       "        brand_volkswagen  brand_volvo  notrepaired_no  notrepaired_unknown  \\\n",
       "1                  False        False           False                False   \n",
       "2                  False        False           False                 True   \n",
       "3                   True        False            True                False   \n",
       "4                  False        False            True                False   \n",
       "5                  False        False           False                False   \n",
       "...                  ...          ...             ...                  ...   \n",
       "354099             False        False            True                False   \n",
       "354100             False        False           False                False   \n",
       "354104             False        False            True                False   \n",
       "354105              True        False            True                False   \n",
       "354106              True        False           False                 True   \n",
       "\n",
       "        notrepaired_yes  \n",
       "1                  True  \n",
       "2                 False  \n",
       "3                 False  \n",
       "4                 False  \n",
       "5                  True  \n",
       "...                 ...  \n",
       "354099            False  \n",
       "354100             True  \n",
       "354104            False  \n",
       "354105            False  \n",
       "354106            False  \n",
       "\n",
       "[286194 rows x 318 columns]"
      ]
     },
     "execution_count": 30,
     "metadata": {},
     "output_type": "execute_result"
    }
   ],
   "source": [
    "# Use one hot encoding to transform categorical columns to numerical\n",
    "\n",
    "df_car_ohe = pd.get_dummies(df_car)\n",
    "\n",
    "df_car_ohe"
   ]
  },
  {
   "cell_type": "markdown",
   "id": "667ec15d",
   "metadata": {
    "id": "667ec15d"
   },
   "source": [
    "### Train test split after OHE for linear regression, decision tree and random forest"
   ]
  },
  {
   "cell_type": "code",
   "execution_count": 31,
   "id": "e6537d39",
   "metadata": {
    "id": "e6537d39"
   },
   "outputs": [],
   "source": [
    "# Create features and test set\n",
    "\n",
    "features_lr = df_car_ohe.drop(['price'],axis=1)\n",
    "\n",
    "target_lr = df_car_ohe['price']"
   ]
  },
  {
   "cell_type": "code",
   "execution_count": 32,
   "id": "493d7b29",
   "metadata": {
    "id": "493d7b29",
    "outputId": "08233f9f-d1ad-46cf-fec6-96d172bf86a1"
   },
   "outputs": [
    {
     "name": "stdout",
     "output_type": "stream",
     "text": [
      "(228955, 317) (57239, 317) (228955,) (57239,)\n"
     ]
    }
   ],
   "source": [
    "# Train test split\n",
    "\n",
    "features_lr_train, features_lr_test, target_lr_train, target_lr_test = train_test_split(features_lr,\n",
    "                                                                                        target_lr,\n",
    "                                                                                        test_size = 0.2,\n",
    "                                                                                        random_state=12345)\n",
    "\n",
    "print(features_lr_train.shape,\n",
    "      features_lr_test.shape,\n",
    "      target_lr_train.shape,\n",
    "      target_lr_test.shape)"
   ]
  },
  {
   "cell_type": "markdown",
   "id": "b0dd925c",
   "metadata": {
    "id": "b0dd925c"
   },
   "source": [
    "### Train test split data for catboost"
   ]
  },
  {
   "cell_type": "code",
   "execution_count": 33,
   "id": "b6c12156",
   "metadata": {
    "id": "b6c12156",
    "outputId": "d94fa481-719c-4a5f-a101-912a0eb73aab"
   },
   "outputs": [
    {
     "name": "stdout",
     "output_type": "stream",
     "text": [
      "(228955, 10) (57239, 10) (228955,) (57239,)\n"
     ]
    }
   ],
   "source": [
    "# Creating features and target\n",
    "\n",
    "features_bst = df_car_copy.drop(['price'],axis=1)\n",
    "\n",
    "target_bst = df_car_copy['price']\n",
    "\n",
    "# Train test split\n",
    "\n",
    "\n",
    "features_bst_train, features_bst_test, target_bst_train, target_bst_test = train_test_split(features_bst,\n",
    "                                                                                        target_bst,\n",
    "                                                                                        test_size = 0.2,\n",
    "                                                                                        random_state=12345)\n",
    "\n",
    "print(features_bst_train.shape,\n",
    "     features_bst_test.shape,\n",
    "     target_bst_train.shape,\n",
    "     target_bst_test.shape)"
   ]
  },
  {
   "cell_type": "markdown",
   "id": "88b5fd78",
   "metadata": {
    "id": "88b5fd78"
   },
   "source": [
    "### Scaling the data"
   ]
  },
  {
   "cell_type": "markdown",
   "id": "14548b32",
   "metadata": {
    "id": "14548b32"
   },
   "source": [
    "We can see the  `registrationyear`, `power` and `mileage` are all in different scales. `Mileage` and `price` can heavily skew the model and trick the model to place higher importance than registration month. Therefore, we will standardize the scale."
   ]
  },
  {
   "cell_type": "code",
   "execution_count": 34,
   "id": "dcd72856",
   "metadata": {
    "id": "dcd72856",
    "outputId": "4e2f68cd-8bbb-4286-9229-98d656f4f00b"
   },
   "outputs": [
    {
     "data": {
      "text/html": [
       "<div>\n",
       "<style scoped>\n",
       "    .dataframe tbody tr th:only-of-type {\n",
       "        vertical-align: middle;\n",
       "    }\n",
       "\n",
       "    .dataframe tbody tr th {\n",
       "        vertical-align: top;\n",
       "    }\n",
       "\n",
       "    .dataframe thead th {\n",
       "        text-align: right;\n",
       "    }\n",
       "</style>\n",
       "<table border=\"1\" class=\"dataframe\">\n",
       "  <thead>\n",
       "    <tr style=\"text-align: right;\">\n",
       "      <th></th>\n",
       "      <th>registrationyear</th>\n",
       "      <th>power</th>\n",
       "      <th>mileage</th>\n",
       "      <th>registrationmonth</th>\n",
       "      <th>vehicletype_bus</th>\n",
       "      <th>vehicletype_convertible</th>\n",
       "      <th>vehicletype_coupe</th>\n",
       "      <th>vehicletype_other</th>\n",
       "      <th>vehicletype_sedan</th>\n",
       "      <th>vehicletype_small</th>\n",
       "      <th>...</th>\n",
       "      <th>brand_sonstige_autos</th>\n",
       "      <th>brand_subaru</th>\n",
       "      <th>brand_suzuki</th>\n",
       "      <th>brand_toyota</th>\n",
       "      <th>brand_trabant</th>\n",
       "      <th>brand_volkswagen</th>\n",
       "      <th>brand_volvo</th>\n",
       "      <th>notrepaired_no</th>\n",
       "      <th>notrepaired_unknown</th>\n",
       "      <th>notrepaired_yes</th>\n",
       "    </tr>\n",
       "  </thead>\n",
       "  <tbody>\n",
       "    <tr>\n",
       "      <th>182756</th>\n",
       "      <td>-0.997761</td>\n",
       "      <td>-0.271127</td>\n",
       "      <td>0.597270</td>\n",
       "      <td>8</td>\n",
       "      <td>False</td>\n",
       "      <td>False</td>\n",
       "      <td>False</td>\n",
       "      <td>False</td>\n",
       "      <td>False</td>\n",
       "      <td>True</td>\n",
       "      <td>...</td>\n",
       "      <td>False</td>\n",
       "      <td>False</td>\n",
       "      <td>False</td>\n",
       "      <td>False</td>\n",
       "      <td>False</td>\n",
       "      <td>False</td>\n",
       "      <td>False</td>\n",
       "      <td>True</td>\n",
       "      <td>False</td>\n",
       "      <td>False</td>\n",
       "    </tr>\n",
       "    <tr>\n",
       "      <th>259610</th>\n",
       "      <td>1.770372</td>\n",
       "      <td>-0.304029</td>\n",
       "      <td>-3.349472</td>\n",
       "      <td>7</td>\n",
       "      <td>False</td>\n",
       "      <td>False</td>\n",
       "      <td>False</td>\n",
       "      <td>False</td>\n",
       "      <td>False</td>\n",
       "      <td>True</td>\n",
       "      <td>...</td>\n",
       "      <td>False</td>\n",
       "      <td>False</td>\n",
       "      <td>False</td>\n",
       "      <td>False</td>\n",
       "      <td>False</td>\n",
       "      <td>False</td>\n",
       "      <td>False</td>\n",
       "      <td>True</td>\n",
       "      <td>False</td>\n",
       "      <td>False</td>\n",
       "    </tr>\n",
       "    <tr>\n",
       "      <th>152917</th>\n",
       "      <td>-0.536405</td>\n",
       "      <td>-0.386287</td>\n",
       "      <td>0.597270</td>\n",
       "      <td>6</td>\n",
       "      <td>False</td>\n",
       "      <td>False</td>\n",
       "      <td>False</td>\n",
       "      <td>False</td>\n",
       "      <td>False</td>\n",
       "      <td>False</td>\n",
       "      <td>...</td>\n",
       "      <td>False</td>\n",
       "      <td>False</td>\n",
       "      <td>False</td>\n",
       "      <td>False</td>\n",
       "      <td>False</td>\n",
       "      <td>False</td>\n",
       "      <td>False</td>\n",
       "      <td>True</td>\n",
       "      <td>False</td>\n",
       "      <td>False</td>\n",
       "    </tr>\n",
       "    <tr>\n",
       "      <th>308230</th>\n",
       "      <td>-0.228835</td>\n",
       "      <td>0.112741</td>\n",
       "      <td>-1.035865</td>\n",
       "      <td>10</td>\n",
       "      <td>False</td>\n",
       "      <td>False</td>\n",
       "      <td>False</td>\n",
       "      <td>False</td>\n",
       "      <td>True</td>\n",
       "      <td>False</td>\n",
       "      <td>...</td>\n",
       "      <td>False</td>\n",
       "      <td>False</td>\n",
       "      <td>False</td>\n",
       "      <td>False</td>\n",
       "      <td>False</td>\n",
       "      <td>False</td>\n",
       "      <td>False</td>\n",
       "      <td>False</td>\n",
       "      <td>True</td>\n",
       "      <td>False</td>\n",
       "    </tr>\n",
       "    <tr>\n",
       "      <th>259143</th>\n",
       "      <td>0.232520</td>\n",
       "      <td>-0.353384</td>\n",
       "      <td>-0.083203</td>\n",
       "      <td>6</td>\n",
       "      <td>False</td>\n",
       "      <td>False</td>\n",
       "      <td>False</td>\n",
       "      <td>False</td>\n",
       "      <td>False</td>\n",
       "      <td>True</td>\n",
       "      <td>...</td>\n",
       "      <td>False</td>\n",
       "      <td>False</td>\n",
       "      <td>False</td>\n",
       "      <td>False</td>\n",
       "      <td>False</td>\n",
       "      <td>False</td>\n",
       "      <td>False</td>\n",
       "      <td>True</td>\n",
       "      <td>False</td>\n",
       "      <td>False</td>\n",
       "    </tr>\n",
       "    <tr>\n",
       "      <th>238523</th>\n",
       "      <td>-0.228835</td>\n",
       "      <td>0.140160</td>\n",
       "      <td>0.597270</td>\n",
       "      <td>3</td>\n",
       "      <td>False</td>\n",
       "      <td>False</td>\n",
       "      <td>False</td>\n",
       "      <td>False</td>\n",
       "      <td>True</td>\n",
       "      <td>False</td>\n",
       "      <td>...</td>\n",
       "      <td>False</td>\n",
       "      <td>False</td>\n",
       "      <td>False</td>\n",
       "      <td>False</td>\n",
       "      <td>False</td>\n",
       "      <td>False</td>\n",
       "      <td>False</td>\n",
       "      <td>True</td>\n",
       "      <td>False</td>\n",
       "      <td>False</td>\n",
       "    </tr>\n",
       "    <tr>\n",
       "      <th>304239</th>\n",
       "      <td>1.155231</td>\n",
       "      <td>0.414352</td>\n",
       "      <td>-2.124621</td>\n",
       "      <td>6</td>\n",
       "      <td>False</td>\n",
       "      <td>False</td>\n",
       "      <td>True</td>\n",
       "      <td>False</td>\n",
       "      <td>False</td>\n",
       "      <td>False</td>\n",
       "      <td>...</td>\n",
       "      <td>False</td>\n",
       "      <td>False</td>\n",
       "      <td>False</td>\n",
       "      <td>False</td>\n",
       "      <td>False</td>\n",
       "      <td>False</td>\n",
       "      <td>False</td>\n",
       "      <td>True</td>\n",
       "      <td>False</td>\n",
       "      <td>False</td>\n",
       "    </tr>\n",
       "    <tr>\n",
       "      <th>86028</th>\n",
       "      <td>0.693876</td>\n",
       "      <td>0.085322</td>\n",
       "      <td>0.597270</td>\n",
       "      <td>9</td>\n",
       "      <td>False</td>\n",
       "      <td>False</td>\n",
       "      <td>False</td>\n",
       "      <td>False</td>\n",
       "      <td>False</td>\n",
       "      <td>False</td>\n",
       "      <td>...</td>\n",
       "      <td>False</td>\n",
       "      <td>False</td>\n",
       "      <td>False</td>\n",
       "      <td>False</td>\n",
       "      <td>False</td>\n",
       "      <td>False</td>\n",
       "      <td>False</td>\n",
       "      <td>True</td>\n",
       "      <td>False</td>\n",
       "      <td>False</td>\n",
       "    </tr>\n",
       "  </tbody>\n",
       "</table>\n",
       "<p>8 rows × 317 columns</p>\n",
       "</div>"
      ],
      "text/plain": [
       "        registrationyear     power   mileage  registrationmonth  \\\n",
       "182756         -0.997761 -0.271127  0.597270                  8   \n",
       "259610          1.770372 -0.304029 -3.349472                  7   \n",
       "152917         -0.536405 -0.386287  0.597270                  6   \n",
       "308230         -0.228835  0.112741 -1.035865                 10   \n",
       "259143          0.232520 -0.353384 -0.083203                  6   \n",
       "238523         -0.228835  0.140160  0.597270                  3   \n",
       "304239          1.155231  0.414352 -2.124621                  6   \n",
       "86028           0.693876  0.085322  0.597270                  9   \n",
       "\n",
       "        vehicletype_bus  vehicletype_convertible  vehicletype_coupe  \\\n",
       "182756            False                    False              False   \n",
       "259610            False                    False              False   \n",
       "152917            False                    False              False   \n",
       "308230            False                    False              False   \n",
       "259143            False                    False              False   \n",
       "238523            False                    False              False   \n",
       "304239            False                    False               True   \n",
       "86028             False                    False              False   \n",
       "\n",
       "        vehicletype_other  vehicletype_sedan  vehicletype_small  ...  \\\n",
       "182756              False              False               True  ...   \n",
       "259610              False              False               True  ...   \n",
       "152917              False              False              False  ...   \n",
       "308230              False               True              False  ...   \n",
       "259143              False              False               True  ...   \n",
       "238523              False               True              False  ...   \n",
       "304239              False              False              False  ...   \n",
       "86028               False              False              False  ...   \n",
       "\n",
       "        brand_sonstige_autos  brand_subaru  brand_suzuki  brand_toyota  \\\n",
       "182756                 False         False         False         False   \n",
       "259610                 False         False         False         False   \n",
       "152917                 False         False         False         False   \n",
       "308230                 False         False         False         False   \n",
       "259143                 False         False         False         False   \n",
       "238523                 False         False         False         False   \n",
       "304239                 False         False         False         False   \n",
       "86028                  False         False         False         False   \n",
       "\n",
       "        brand_trabant  brand_volkswagen  brand_volvo  notrepaired_no  \\\n",
       "182756          False             False        False            True   \n",
       "259610          False             False        False            True   \n",
       "152917          False             False        False            True   \n",
       "308230          False             False        False           False   \n",
       "259143          False             False        False            True   \n",
       "238523          False             False        False            True   \n",
       "304239          False             False        False            True   \n",
       "86028           False             False        False            True   \n",
       "\n",
       "        notrepaired_unknown  notrepaired_yes  \n",
       "182756                False            False  \n",
       "259610                False            False  \n",
       "152917                False            False  \n",
       "308230                 True            False  \n",
       "259143                False            False  \n",
       "238523                False            False  \n",
       "304239                False            False  \n",
       "86028                 False            False  \n",
       "\n",
       "[8 rows x 317 columns]"
      ]
     },
     "execution_count": 34,
     "metadata": {},
     "output_type": "execute_result"
    }
   ],
   "source": [
    "from sklearn.preprocessing import StandardScaler\n",
    "\n",
    "# Use StandardScaler to scale the columnes needed for data for LR, DT, RF\n",
    "\n",
    "numeric = ['registrationyear',\n",
    "          'power',\n",
    "          'mileage']\n",
    "\n",
    "scaler = StandardScaler()\n",
    "scaler.fit(features_lr_train[numeric])\n",
    "features_lr_train[numeric] = scaler.transform(features_lr_train[numeric])\n",
    "features_lr_test[numeric] = scaler.transform(features_lr_test[numeric])\n",
    "\n",
    "features_lr_train.head(8)"
   ]
  },
  {
   "cell_type": "code",
   "execution_count": 35,
   "id": "4c970c97",
   "metadata": {
    "id": "4c970c97",
    "outputId": "ac51010d-72f2-4c47-aed7-6263d22c3865"
   },
   "outputs": [
    {
     "data": {
      "text/html": [
       "<div>\n",
       "<style scoped>\n",
       "    .dataframe tbody tr th:only-of-type {\n",
       "        vertical-align: middle;\n",
       "    }\n",
       "\n",
       "    .dataframe tbody tr th {\n",
       "        vertical-align: top;\n",
       "    }\n",
       "\n",
       "    .dataframe thead th {\n",
       "        text-align: right;\n",
       "    }\n",
       "</style>\n",
       "<table border=\"1\" class=\"dataframe\">\n",
       "  <thead>\n",
       "    <tr style=\"text-align: right;\">\n",
       "      <th></th>\n",
       "      <th>vehicletype</th>\n",
       "      <th>registrationyear</th>\n",
       "      <th>gearbox</th>\n",
       "      <th>power</th>\n",
       "      <th>model</th>\n",
       "      <th>mileage</th>\n",
       "      <th>registrationmonth</th>\n",
       "      <th>fueltype</th>\n",
       "      <th>brand</th>\n",
       "      <th>notrepaired</th>\n",
       "    </tr>\n",
       "  </thead>\n",
       "  <tbody>\n",
       "    <tr>\n",
       "      <th>182756</th>\n",
       "      <td>small</td>\n",
       "      <td>-0.997761</td>\n",
       "      <td>manual</td>\n",
       "      <td>-0.271127</td>\n",
       "      <td>fiesta</td>\n",
       "      <td>0.597270</td>\n",
       "      <td>8</td>\n",
       "      <td>petrol</td>\n",
       "      <td>ford</td>\n",
       "      <td>no</td>\n",
       "    </tr>\n",
       "    <tr>\n",
       "      <th>259610</th>\n",
       "      <td>small</td>\n",
       "      <td>1.770372</td>\n",
       "      <td>manual</td>\n",
       "      <td>-0.304029</td>\n",
       "      <td>500</td>\n",
       "      <td>-3.349472</td>\n",
       "      <td>7</td>\n",
       "      <td>petrol</td>\n",
       "      <td>fiat</td>\n",
       "      <td>no</td>\n",
       "    </tr>\n",
       "    <tr>\n",
       "      <th>152917</th>\n",
       "      <td>unknown</td>\n",
       "      <td>-0.536405</td>\n",
       "      <td>manual</td>\n",
       "      <td>-0.386287</td>\n",
       "      <td>micra</td>\n",
       "      <td>0.597270</td>\n",
       "      <td>6</td>\n",
       "      <td>unknown</td>\n",
       "      <td>nissan</td>\n",
       "      <td>no</td>\n",
       "    </tr>\n",
       "    <tr>\n",
       "      <th>308230</th>\n",
       "      <td>sedan</td>\n",
       "      <td>-0.228835</td>\n",
       "      <td>auto</td>\n",
       "      <td>0.112741</td>\n",
       "      <td>c_klasse</td>\n",
       "      <td>-1.035865</td>\n",
       "      <td>10</td>\n",
       "      <td>petrol</td>\n",
       "      <td>mercedes_benz</td>\n",
       "      <td>unknown</td>\n",
       "    </tr>\n",
       "    <tr>\n",
       "      <th>259143</th>\n",
       "      <td>small</td>\n",
       "      <td>0.232520</td>\n",
       "      <td>manual</td>\n",
       "      <td>-0.353384</td>\n",
       "      <td>ka</td>\n",
       "      <td>-0.083203</td>\n",
       "      <td>6</td>\n",
       "      <td>petrol</td>\n",
       "      <td>ford</td>\n",
       "      <td>no</td>\n",
       "    </tr>\n",
       "    <tr>\n",
       "      <th>238523</th>\n",
       "      <td>sedan</td>\n",
       "      <td>-0.228835</td>\n",
       "      <td>manual</td>\n",
       "      <td>0.140160</td>\n",
       "      <td>octavia</td>\n",
       "      <td>0.597270</td>\n",
       "      <td>3</td>\n",
       "      <td>petrol</td>\n",
       "      <td>skoda</td>\n",
       "      <td>no</td>\n",
       "    </tr>\n",
       "    <tr>\n",
       "      <th>304239</th>\n",
       "      <td>coupe</td>\n",
       "      <td>1.155231</td>\n",
       "      <td>manual</td>\n",
       "      <td>0.414352</td>\n",
       "      <td>other</td>\n",
       "      <td>-2.124621</td>\n",
       "      <td>6</td>\n",
       "      <td>petrol</td>\n",
       "      <td>peugeot</td>\n",
       "      <td>no</td>\n",
       "    </tr>\n",
       "    <tr>\n",
       "      <th>86028</th>\n",
       "      <td>wagon</td>\n",
       "      <td>0.693876</td>\n",
       "      <td>manual</td>\n",
       "      <td>0.085322</td>\n",
       "      <td>mondeo</td>\n",
       "      <td>0.597270</td>\n",
       "      <td>9</td>\n",
       "      <td>gasoline</td>\n",
       "      <td>ford</td>\n",
       "      <td>no</td>\n",
       "    </tr>\n",
       "  </tbody>\n",
       "</table>\n",
       "</div>"
      ],
      "text/plain": [
       "       vehicletype  registrationyear gearbox     power     model   mileage  \\\n",
       "182756       small         -0.997761  manual -0.271127    fiesta  0.597270   \n",
       "259610       small          1.770372  manual -0.304029       500 -3.349472   \n",
       "152917     unknown         -0.536405  manual -0.386287     micra  0.597270   \n",
       "308230       sedan         -0.228835    auto  0.112741  c_klasse -1.035865   \n",
       "259143       small          0.232520  manual -0.353384        ka -0.083203   \n",
       "238523       sedan         -0.228835  manual  0.140160   octavia  0.597270   \n",
       "304239       coupe          1.155231  manual  0.414352     other -2.124621   \n",
       "86028        wagon          0.693876  manual  0.085322    mondeo  0.597270   \n",
       "\n",
       "        registrationmonth  fueltype          brand notrepaired  \n",
       "182756                  8    petrol           ford          no  \n",
       "259610                  7    petrol           fiat          no  \n",
       "152917                  6   unknown         nissan          no  \n",
       "308230                 10    petrol  mercedes_benz     unknown  \n",
       "259143                  6    petrol           ford          no  \n",
       "238523                  3    petrol          skoda          no  \n",
       "304239                  6    petrol        peugeot          no  \n",
       "86028                   9  gasoline           ford          no  "
      ]
     },
     "execution_count": 35,
     "metadata": {},
     "output_type": "execute_result"
    }
   ],
   "source": [
    "# Use StandardScaler to scale the columnes needed for data for catboost\n",
    "\n",
    "scaler = StandardScaler()\n",
    "scaler.fit(features_bst_train[numeric])\n",
    "features_bst_train[numeric] = scaler.transform(features_bst_train[numeric])\n",
    "features_bst_test[numeric] = scaler.transform(features_bst_test[numeric])\n",
    "\n",
    "features_bst_train.head(8)"
   ]
  },
  {
   "cell_type": "markdown",
   "id": "a0241caf",
   "metadata": {
    "id": "a0241caf"
   },
   "source": [
    "# Model training"
   ]
  },
  {
   "cell_type": "markdown",
   "id": "24faf76a",
   "metadata": {
    "id": "24faf76a"
   },
   "source": [
    "### Linear regression"
   ]
  },
  {
   "cell_type": "code",
   "execution_count": 36,
   "id": "6dc88512",
   "metadata": {
    "id": "6dc88512"
   },
   "outputs": [],
   "source": [
    "# Initiate the model\n",
    "\n",
    "lr = LinearRegression()\n"
   ]
  },
  {
   "cell_type": "markdown",
   "id": "23b1b778",
   "metadata": {
    "id": "23b1b778"
   },
   "source": [
    "### Random Forest: using RandomizedSeachCV to get a range of best hyperparameters"
   ]
  },
  {
   "cell_type": "code",
   "execution_count": 37,
   "id": "ac2c9a58",
   "metadata": {
    "id": "ac2c9a58",
    "outputId": "284d0290-0a87-4aca-ba5d-3553afdc9258"
   },
   "outputs": [
    {
     "name": "stdout",
     "output_type": "stream",
     "text": [
      "{'max_depth': 7, 'n_estimators': 5}\n"
     ]
    }
   ],
   "source": [
    "# Create a dictionary for hyperparameters\n",
    "\n",
    "param_dict_df = {'n_estimators': randint(1,15),\n",
    "                'max_depth': randint(1,8)}\n",
    "\n",
    "# Initiate random forest model\n",
    "\n",
    "rf_search = RandomForestRegressor(random_state=12345)\n",
    "\n",
    "# Using Randomizedsearchcv to find best parameters\n",
    "\n",
    "rf_rand_search = RandomizedSearchCV(rf_search, param_dict_df, cv=5)\n",
    "\n",
    "# Getting the best range of parameters\n",
    "\n",
    "rf_rand_best = rf_rand_search.fit(features_lr_train,target_lr_train).best_params_\n",
    "\n",
    "print(rf_rand_best)"
   ]
  },
  {
   "cell_type": "markdown",
   "id": "bd246ead",
   "metadata": {
    "id": "bd246ead"
   },
   "source": [
    "As RandomizedSearchCV always returns different best params within a range, I will pick max_depth=6 and n_estimators=8"
   ]
  },
  {
   "cell_type": "code",
   "execution_count": 38,
   "id": "621a271e",
   "metadata": {
    "id": "621a271e"
   },
   "outputs": [],
   "source": [
    "rf = RandomForestRegressor(max_depth = 6, n_estimators = 8, random_state=12345)"
   ]
  },
  {
   "cell_type": "markdown",
   "id": "4fdcf13a",
   "metadata": {
    "id": "4fdcf13a"
   },
   "source": [
    "### Decision Tree Regressor: using RandomizedSeachCV to get a range of best hyperparameters"
   ]
  },
  {
   "cell_type": "code",
   "execution_count": null,
   "id": "dbd7eaa8",
   "metadata": {
    "id": "dbd7eaa8",
    "outputId": "8314919d-5b9b-4108-a540-2f4a0c6a38a3"
   },
   "outputs": [],
   "source": [
    "# Create a dictionary for hyperparameters\n",
    "\n",
    "param_dt = {'max_depth': randint(1,20)}\n",
    "\n",
    "# Initiate deicision tree model\n",
    "\n",
    "dt_search = DecisionTreeRegressor(random_state=12345)\n",
    "\n",
    "# Using RandomizedSearchCV to find best param\n",
    "\n",
    "df_rand_search = RandomizedSearchCV(dt_search, param_dt, cv=5)\n",
    "\n",
    "# Getting the best range parameters\n",
    "\n",
    "df_rand_best = df_rand_search.fit(features_lr_train,target_lr_train).best_params_\n",
    "\n",
    "print(df_rand_best)"
   ]
  },
  {
   "cell_type": "markdown",
   "id": "81609ebc",
   "metadata": {
    "id": "81609ebc"
   },
   "source": [
    "As RandomizedSearchCV always returns different best params within a range, I will pick max_depth=16"
   ]
  },
  {
   "cell_type": "code",
   "execution_count": null,
   "id": "eeee4830",
   "metadata": {
    "id": "eeee4830"
   },
   "outputs": [],
   "source": [
    "dt = DecisionTreeRegressor(max_depth=15,random_state=12345)"
   ]
  },
  {
   "cell_type": "markdown",
   "id": "4d422157",
   "metadata": {
    "id": "4d422157"
   },
   "source": [
    "### RMSE and time for above models"
   ]
  },
  {
   "cell_type": "code",
   "execution_count": null,
   "id": "02fb60a9",
   "metadata": {
    "id": "02fb60a9"
   },
   "outputs": [],
   "source": [
    "# Store all models in a list\n",
    "\n",
    "models = [lr, rf, dt]\n",
    "\n",
    "# Create a dataframe to store data of the model\n",
    "\n",
    "score_time = pd.DataFrame(columns = ['Linear Regression','Random Forest','Decision Tree'])\n",
    "\n",
    "# Create empty lists for score and time\n",
    "\n",
    "process_time = []\n",
    "prediction_time = []\n",
    "rmse = []\n",
    "\n",
    "for each_model in models:\n",
    "    start_process = time.time()\n",
    "    each_model.fit(features_lr_train, target_lr_train)\n",
    "    end_process = time.time()\n",
    "    process_time.append(round(end_process - start_process, 5))\n",
    "\n",
    "    start_predict = time.time()\n",
    "    prediction_test = each_model.predict(features_lr_test)\n",
    "    end_predict = time.time()\n",
    "    prediction_time.append(end_predict - start_predict)\n",
    "\n",
    "    mse = round(mean_squared_error(target_lr_test, prediction_test),2)\n",
    "    rmse_value = round(mse **0.5,2)\n",
    "\n",
    "    # Append the RMSE value to the list\n",
    "    rmse.append(rmse_value)\n",
    "\n",
    "score_time.loc['process_time'] = process_time\n",
    "score_time.loc['prediction_time'] = prediction_time\n",
    "score_time.loc['rmse'] = rmse"
   ]
  },
  {
   "cell_type": "code",
   "execution_count": null,
   "id": "c8c18278",
   "metadata": {
    "id": "c8c18278",
    "outputId": "965fc48e-af82-49c0-edc8-bab945d99a22"
   },
   "outputs": [],
   "source": [
    "score_time"
   ]
  },
  {
   "cell_type": "markdown",
   "id": "4fec8dc6",
   "metadata": {
    "id": "4fec8dc6"
   },
   "source": [
    "**Observation**\n",
    "\n",
    "It was already stated in the project that linear regression is used for sanity checking. We can see that it has the RMSE is extremely high. 2.606439e+07 = 2.606439 * 10^7 = 26,064,390. Decision tree seems to perform better than random forest. It has lower RMSE and lower fitting time."
   ]
  },
  {
   "cell_type": "markdown",
   "id": "d9a672f1",
   "metadata": {
    "id": "d9a672f1"
   },
   "source": [
    "### Catboost"
   ]
  },
  {
   "cell_type": "code",
   "execution_count": null,
   "id": "d5fe7074",
   "metadata": {
    "id": "d5fe7074"
   },
   "outputs": [],
   "source": [
    "categorical =  ['vehicletype', 'gearbox', 'model', 'registrationmonth', 'fueltype', 'brand', 'notrepaired']"
   ]
  },
  {
   "cell_type": "code",
   "execution_count": null,
   "id": "395d4630",
   "metadata": {
    "id": "395d4630",
    "outputId": "d60fe418-7f41-4bd9-994a-d58fd8e9a14c"
   },
   "outputs": [],
   "source": [
    "# Create dictionary\n",
    "\n",
    "cb_param_dict = {'depth': [6,8,10],\n",
    "                'learning_rate': [0.01,0.05,0.1],\n",
    "                 'l2_leaf_reg': [2,4],\n",
    "                 'iterations': [10,20,30]\n",
    "                }\n",
    "\n",
    "# Initiate model\n",
    "model_cb = CatBoostRegressor(loss_function = 'RMSE', random_state = 12345)\n",
    "\n",
    "# Using GridSearchCV to find best parameter\n",
    "grid=GridSearchCV(model_cb, param_grid=cb_param_dict, cv=5, verbose=10)\n",
    "\n",
    "\n",
    "# Fitting the training data\n",
    "grid.fit(features_bst_train, target_bst_train, cat_features = categorical)\n"
   ]
  },
  {
   "cell_type": "code",
   "execution_count": null,
   "id": "f68ddc76",
   "metadata": {
    "id": "f68ddc76",
    "outputId": "89db5eca-4134-45a0-a06e-b3287e133c45"
   },
   "outputs": [],
   "source": [
    "best_param = grid.best_params_\n",
    "best_score = grid.best_score_\n",
    "\n",
    "print('The best hyperparameters are', best_param, 'and best score is', best_score)"
   ]
  },
  {
   "cell_type": "code",
   "execution_count": null,
   "id": "48ed5259",
   "metadata": {
    "id": "48ed5259",
    "outputId": "80d61be6-a653-4e31-f769-9588f924db3c"
   },
   "outputs": [],
   "source": [
    "#Initiate CatBoostRegressor with paramaters found from GridSearchCV\n",
    "cb = CatBoostRegressor(loss_function='RMSE',\n",
    "                      depth=10,\n",
    "                      iterations=30,\n",
    "                      learning_rate=0.1,\n",
    "                       l2_leaf_reg=2,\n",
    "                      random_state=12345)\n",
    "\n",
    "# Timing for processing\n",
    "start_time_cb= time.time()\n",
    "cb.fit(features_bst_train, target_bst_train, cat_features = categorical, verbose=3)\n",
    "end_time_cb = time.time()\n",
    "process_time = end_time_cb - start_time_cb\n",
    "\n",
    "# Timing for prediction\n",
    "start_cb_predict = time.time()\n",
    "predict_cb = cb.predict(features_bst_test)\n",
    "end_cb_predict = time.time()\n",
    "predict_time = end_cb_predict - start_cb_predict\n",
    "\n",
    "# RMSE score\n",
    "\n",
    "mse_cat = round(mean_squared_error(target_bst_test, predict_cb),2)\n",
    "rmse_cat = round(mse_cat**0.5,2)\n",
    "\n",
    "rmse_cat"
   ]
  },
  {
   "cell_type": "code",
   "execution_count": null,
   "id": "93dfd795",
   "metadata": {
    "id": "93dfd795"
   },
   "outputs": [],
   "source": [
    "# Creating a column for cat boost and\n",
    "\n",
    "score_time['Cat Boost'] = [process_time, predict_time,rmse_cat]"
   ]
  },
  {
   "cell_type": "code",
   "execution_count": null,
   "id": "b78cc8ef",
   "metadata": {
    "id": "b78cc8ef",
    "outputId": "bcd1bd2b-dd35-4b16-a400-373287903904"
   },
   "outputs": [],
   "source": [
    "score_time"
   ]
  },
  {
   "cell_type": "markdown",
   "id": "a9ceb3f9",
   "metadata": {
    "id": "a9ceb3f9"
   },
   "source": [
    "Catboost has better rmse of all models so far. It's processing time is also shortest amongst all models."
   ]
  },
  {
   "cell_type": "code",
   "execution_count": null,
   "id": "1f06eefb",
   "metadata": {
    "id": "1f06eefb"
   },
   "outputs": [],
   "source": [
    "features_bst_train_copy = features_bst_train.copy()\n",
    "features_bst_test_copy = features_bst_test.copy()"
   ]
  },
  {
   "cell_type": "markdown",
   "id": "bd1f7524",
   "metadata": {
    "id": "bd1f7524"
   },
   "source": [
    "### LightGBM"
   ]
  },
  {
   "cell_type": "code",
   "execution_count": null,
   "id": "bfeb6922",
   "metadata": {
    "id": "bfeb6922",
    "outputId": "836cd656-8efa-49e0-e2c0-b2ab6051c2df"
   },
   "outputs": [],
   "source": [
    "# LightGBM takes categorical data and needless to do one hot encoding. Converting to category datatype\n",
    "\n",
    "for cat in categorical:\n",
    "    features_bst_train[cat] = features_bst_train[cat].astype('category')\n",
    "    features_bst_test[cat] = features_bst_test[cat].astype('category')"
   ]
  },
  {
   "cell_type": "code",
   "execution_count": null,
   "id": "3cbecdd2",
   "metadata": {
    "id": "3cbecdd2",
    "outputId": "86de9405-dd29-46e5-d916-0325bfe3d67b"
   },
   "outputs": [],
   "source": [
    "# Initiate LGBMRegressor\n",
    "\n",
    "lgbm_model = LGBMRegressor(random_state=12345, objective='rmse')\n",
    "\n",
    "# Create dictionary of params to be used in gridsearchcv\n",
    "\n",
    "lgbm_dict = {'num_leaves': [20,31,40,50],\n",
    "            'n_estimators': [10,20],\n",
    "            'learning_rate': [0.05,0.1,0.15]}\n",
    "\n",
    "# Use GridSearchCV to find\n",
    "lgbm_grid = GridSearchCV(lgbm_model, param_grid=lgbm_dict,cv=3)\n",
    "\n",
    "# Fitting training data\n",
    "lgbm_grid.fit(features_bst_train, target_bst_train)\n",
    "\n",
    "# Best parameters\n",
    "lgbm_best_param = lgbm_grid.best_params_\n",
    "lgbm_best_score = lgbm_grid.best_score_\n",
    "\n",
    "print('The best hyperparameters are', lgbm_best_param, 'and best score is', lgbm_best_score)"
   ]
  },
  {
   "cell_type": "code",
   "execution_count": null,
   "id": "cc165caf",
   "metadata": {
    "id": "cc165caf"
   },
   "outputs": [],
   "source": [
    "#Initiate CatBoostRegressor with paramaters found from GridSearchCV\n",
    "lgbm = LGBMRegressor(learning_rate=0.15,\n",
    "                     n_estimators=20,\n",
    "                     num_leaves=50,\n",
    "                     objective='rmse',\n",
    "                     random_state=12345)\n",
    "\n",
    "# Timing for processing\n",
    "start_time_lgbm= time.time()\n",
    "lgbm.fit(features_bst_train, target_bst_train)\n",
    "end_time_lgbm = time.time()\n",
    "process_time_lgbm = end_time_cb - start_time_cb\n",
    "\n",
    "# Timing for prediction\n",
    "start_lgbm_predict = time.time()\n",
    "predict_lgbm = lgbm.predict(features_bst_test)\n",
    "end_lgbm_predict = time.time()\n",
    "predict_time_lgbm = end_lgbm_predict - start_lgbm_predict\n",
    "\n",
    "# RMSE score\n",
    "\n",
    "mse_lgbm = round(mean_squared_error(target_bst_test, predict_lgbm),2)\n",
    "rmse_lgbm = round(mse_lgbm**0.5,2)\n"
   ]
  },
  {
   "cell_type": "code",
   "execution_count": null,
   "id": "2617082d",
   "metadata": {
    "id": "2617082d",
    "outputId": "844d8ae4-27ec-4f98-de8f-648aae8d2f1b"
   },
   "outputs": [],
   "source": [
    "score_time['LighGBM'] = [process_time_lgbm, predict_time_lgbm, rmse_lgbm]\n",
    "\n",
    "score_time"
   ]
  },
  {
   "cell_type": "markdown",
   "id": "cfd05adf",
   "metadata": {
    "id": "cfd05adf"
   },
   "source": [
    "LightGBM has the same processing time as cat boost but faster prediction time. It has lowest RMSE score of all models."
   ]
  },
  {
   "cell_type": "markdown",
   "id": "140aa449",
   "metadata": {
    "id": "140aa449"
   },
   "source": [
    "# Conclusion"
   ]
  },
  {
   "cell_type": "code",
   "execution_count": null,
   "id": "e7b29c93",
   "metadata": {
    "id": "e7b29c93",
    "outputId": "bab1f61d-3ae6-4612-e214-e567e3954909"
   },
   "outputs": [],
   "source": [
    "\n",
    "plt.figure(figsize = (8,7))\n",
    "plt.bar( score_time.iloc[0].index,  score_time.iloc[0].values)\n",
    "plt.title('Process time amongst models')\n",
    "plt.show()"
   ]
  },
  {
   "cell_type": "code",
   "execution_count": null,
   "id": "0b3bcd78",
   "metadata": {
    "id": "0b3bcd78",
    "outputId": "75d4d20c-b0b0-4fcf-a9e8-f230b782f488"
   },
   "outputs": [],
   "source": [
    "plt.figure(figsize = (8,7))\n",
    "plt.bar( score_time.iloc[1].index,  score_time.iloc[1].values)\n",
    "plt.title('Prediction time amongst models')\n",
    "plt.show()"
   ]
  },
  {
   "cell_type": "code",
   "execution_count": null,
   "id": "670d9fcf",
   "metadata": {
    "id": "670d9fcf",
    "outputId": "588048b7-c494-4e72-a33c-4f693be6c3ef"
   },
   "outputs": [],
   "source": [
    "plt.figure(figsize = (8,7))\n",
    "\n",
    "# Convert the RMSE values to logarithmic scale by using np.log10\n",
    "plt.bar( score_time.iloc[2].index,  np.log10(score_time.iloc[2].values))\n",
    "plt.title('RMSE amongst models')\n",
    "plt.show()"
   ]
  },
  {
   "cell_type": "markdown",
   "id": "cc66504d",
   "metadata": {
    "id": "cc66504d"
   },
   "source": [
    "The objective of the project is to find the quality of the prediction, the speed of the prediction, and the time required for training.\n",
    "\n",
    "After we imported the data, we converted the columns to lower case, dropped irrelevant columns, checked for duplicates, filled in missing values. We also further refined the data in preparation to train our model.\n",
    "\n",
    "I also encoded the categorical features columns and scaled features columns before we train test split the data. We kept 20% of data as testing data.\n",
    "\n",
    "I used linear regression, decision tree, random forest, cat boost and lightgbm. We can see that lightgbm has the shortest time and best RMSE score.\n",
    "\n",
    "Overall, it seems like gradient boosting methods outperformed traditional regression models."
   ]
  },
  {
   "cell_type": "code",
   "execution_count": null,
   "id": "7cf6920f",
   "metadata": {
    "id": "7cf6920f"
   },
   "outputs": [],
   "source": []
  }
 ],
 "metadata": {
  "colab": {
   "provenance": []
  },
  "kernelspec": {
   "display_name": "Python 3 (ipykernel)",
   "language": "python",
   "name": "python3"
  },
  "language_info": {
   "codemirror_mode": {
    "name": "ipython",
    "version": 3
   },
   "file_extension": ".py",
   "mimetype": "text/x-python",
   "name": "python",
   "nbconvert_exporter": "python",
   "pygments_lexer": "ipython3",
   "version": "3.11.5"
  },
  "toc": {
   "base_numbering": 1,
   "nav_menu": {},
   "number_sections": true,
   "sideBar": true,
   "skip_h1_title": true,
   "title_cell": "Table of Contents",
   "title_sidebar": "Contents",
   "toc_cell": false,
   "toc_position": {},
   "toc_section_display": true,
   "toc_window_display": false
  }
 },
 "nbformat": 4,
 "nbformat_minor": 5
}
